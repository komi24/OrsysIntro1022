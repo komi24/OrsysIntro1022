{
 "cells": [
  {
   "cell_type": "code",
   "execution_count": 2,
   "id": "f5056871",
   "metadata": {},
   "outputs": [
    {
     "name": "stdout",
     "output_type": "stream",
     "text": [
      "Hello\n"
     ]
    }
   ],
   "source": [
    "print(\"Hello\")"
   ]
  },
  {
   "cell_type": "code",
   "execution_count": 3,
   "id": "e9a0a04d",
   "metadata": {},
   "outputs": [],
   "source": [
    "a = 2\n",
    "ma_variable = 5\n",
    "MA_CONSTANTE = 10\n",
    "\n",
    "def ma_fonction():\n",
    "    pass\n",
    "\n",
    "class MaClass:\n",
    "    pass"
   ]
  },
  {
   "cell_type": "code",
   "execution_count": 8,
   "id": "c0b4fcda",
   "metadata": {},
   "outputs": [
    {
     "name": "stdout",
     "output_type": "stream",
     "text": [
      "2\n"
     ]
    }
   ],
   "source": [
    "print(a)"
   ]
  },
  {
   "cell_type": "code",
   "execution_count": 5,
   "id": "26cf0414",
   "metadata": {},
   "outputs": [
    {
     "name": "stdout",
     "output_type": "stream",
     "text": [
      "6\n"
     ]
    }
   ],
   "source": [
    "print(a + 4)"
   ]
  },
  {
   "cell_type": "code",
   "execution_count": 6,
   "id": "7b79b6e9",
   "metadata": {},
   "outputs": [
    {
     "name": "stdout",
     "output_type": "stream",
     "text": [
      "5\n"
     ]
    },
    {
     "data": {
      "text/plain": [
       "'\\ndiogj\\nsdgosdg\\nqsgfq\\n'"
      ]
     },
     "execution_count": 6,
     "metadata": {},
     "output_type": "execute_result"
    }
   ],
   "source": [
    "# print(a + 3)\n",
    "# print(a + 3)\n",
    "# print(a + 3)\n",
    "# print(a + 3)\n",
    "print(a + 3)\n",
    "\n",
    "\"\"\"\n",
    "diogj\n",
    "sdgosdg\n",
    "qsgfq\n",
    "\"\"\""
   ]
  },
  {
   "cell_type": "markdown",
   "id": "1feb0018",
   "metadata": {},
   "source": [
    "# Mon Titre\n",
    "## Mon sous titre\n",
    "\n",
    "#### Mon sous sous titre\n",
    "\n",
    "* item 1\n",
    "* item 2"
   ]
  },
  {
   "cell_type": "code",
   "execution_count": 10,
   "id": "586344a5",
   "metadata": {},
   "outputs": [],
   "source": [
    "a = {\"nom\": \"Bolnet\", \"prenom\": \"Mickael\"}\n",
    "# a[nom] # Erreur!\n",
    "a[\"nom\"]"
   ]
  },
  {
   "cell_type": "code",
   "execution_count": 32,
   "id": "13ad114a",
   "metadata": {},
   "outputs": [
    {
     "data": {
      "text/plain": [
       "complex"
      ]
     },
     "execution_count": 32,
     "metadata": {},
     "output_type": "execute_result"
    }
   ],
   "source": [
    "# Créez vous une varaible voiture.\n",
    "# voiture sera un dictionnaire possédant \n",
    "# les clés \"position\", \"vitesse\", \"marque\"\n",
    "# postion = 0\n",
    "# vitesse = 50\n",
    "# marque = \"Clio\"\n",
    "voiture = {\"position\": 0, \"vitesse\": 50+2j, \"marque\": \"Clio\"}\n",
    "type(voiture[\"vitesse\"])"
   ]
  },
  {
   "cell_type": "code",
   "execution_count": 33,
   "id": "01394802",
   "metadata": {},
   "outputs": [
    {
     "ename": "NameError",
     "evalue": "name 'maison' is not defined",
     "output_type": "error",
     "traceback": [
      "\u001b[1;31m---------------------------------------------------------------------------\u001b[0m",
      "\u001b[1;31mNameError\u001b[0m                                 Traceback (most recent call last)",
      "Input \u001b[1;32mIn [33]\u001b[0m, in \u001b[0;36m<cell line: 1>\u001b[1;34m()\u001b[0m\n\u001b[1;32m----> 1\u001b[0m \u001b[43mmaison\u001b[49m\n",
      "\u001b[1;31mNameError\u001b[0m: name 'maison' is not defined"
     ]
    }
   ],
   "source": [
    "maison"
   ]
  },
  {
   "cell_type": "code",
   "execution_count": 39,
   "id": "f13d1e56",
   "metadata": {},
   "outputs": [
    {
     "data": {
      "text/plain": [
       "\"Bonjour je m'appelle Bolnet. Et j'ai 5 ans.\""
      ]
     },
     "execution_count": 39,
     "metadata": {},
     "output_type": "execute_result"
    }
   ],
   "source": [
    "\"Bonjour je m'appelle \" + b[\"nom\"] + \". Et j'ai \" + str(b[\"age\"]) + \" ans.\""
   ]
  },
  {
   "cell_type": "code",
   "execution_count": 40,
   "id": "cd594f3c",
   "metadata": {},
   "outputs": [
    {
     "data": {
      "text/plain": [
       "\"Bonjour je m'appelle Bolnet\""
      ]
     },
     "execution_count": 40,
     "metadata": {},
     "output_type": "execute_result"
    }
   ],
   "source": [
    "f\"Bonjour je m'appelle {b['nom']}\""
   ]
  },
  {
   "cell_type": "code",
   "execution_count": 42,
   "id": "4d5b855e",
   "metadata": {},
   "outputs": [
    {
     "data": {
      "text/plain": [
       "False"
      ]
     },
     "execution_count": 42,
     "metadata": {},
     "output_type": "execute_result"
    }
   ],
   "source": [
    "personne = \"Martin\"\n",
    "autre_personne = \"Julie\"\n",
    "\n",
    "personne == autre_personne"
   ]
  },
  {
   "cell_type": "code",
   "execution_count": 43,
   "id": "49d80619",
   "metadata": {},
   "outputs": [
    {
     "data": {
      "text/plain": [
       "True"
      ]
     },
     "execution_count": 43,
     "metadata": {},
     "output_type": "execute_result"
    }
   ],
   "source": [
    "personne != autre_personne"
   ]
  },
  {
   "cell_type": "code",
   "execution_count": 44,
   "id": "b29ec333",
   "metadata": {},
   "outputs": [
    {
     "data": {
      "text/plain": [
       "False"
      ]
     },
     "execution_count": 44,
     "metadata": {},
     "output_type": "execute_result"
    }
   ],
   "source": [
    "age_de_personne = 32\n",
    "age_dautre_personne = 42\n",
    "\n",
    "age_dautre_personne < age_de_personne"
   ]
  },
  {
   "cell_type": "code",
   "execution_count": 45,
   "id": "42c313e3",
   "metadata": {},
   "outputs": [
    {
     "data": {
      "text/plain": [
       "True"
      ]
     },
     "execution_count": 45,
     "metadata": {},
     "output_type": "execute_result"
    }
   ],
   "source": [
    "4 < 4.2"
   ]
  },
  {
   "cell_type": "code",
   "execution_count": 47,
   "id": "7f33e6e7",
   "metadata": {},
   "outputs": [
    {
     "ename": "TypeError",
     "evalue": "'<' not supported between instances of 'int' and 'str'",
     "output_type": "error",
     "traceback": [
      "\u001b[1;31m---------------------------------------------------------------------------\u001b[0m",
      "\u001b[1;31mTypeError\u001b[0m                                 Traceback (most recent call last)",
      "Input \u001b[1;32mIn [47]\u001b[0m, in \u001b[0;36m<cell line: 1>\u001b[1;34m()\u001b[0m\n\u001b[1;32m----> 1\u001b[0m \u001b[38;5;241;43m4\u001b[39;49m\u001b[43m \u001b[49m\u001b[38;5;241;43m<\u001b[39;49m\u001b[43m \u001b[49m\u001b[38;5;124;43m\"\u001b[39;49m\u001b[38;5;124;43mmarc\u001b[39;49m\u001b[38;5;124;43m\"\u001b[39;49m\n",
      "\u001b[1;31mTypeError\u001b[0m: '<' not supported between instances of 'int' and 'str'"
     ]
    }
   ],
   "source": [
    "4 < \"marc\""
   ]
  },
  {
   "cell_type": "code",
   "execution_count": 48,
   "id": "c963eb14",
   "metadata": {},
   "outputs": [
    {
     "name": "stdout",
     "output_type": "stream",
     "text": [
      "0\n",
      "10\n",
      "20\n",
      "30\n",
      "40\n",
      "50\n",
      "60\n",
      "70\n",
      "80\n",
      "90\n"
     ]
    }
   ],
   "source": [
    "for i in range(100):\n",
    "    if i % 10 == 0:\n",
    "        print(i)"
   ]
  },
  {
   "cell_type": "code",
   "execution_count": 54,
   "id": "c33413a6",
   "metadata": {},
   "outputs": [],
   "source": [
    "ma_liste = [0, 5, True, \"Bonjour\", [12, \"Toto\"], 36]"
   ]
  },
  {
   "cell_type": "code",
   "execution_count": 55,
   "id": "42062eac",
   "metadata": {},
   "outputs": [
    {
     "data": {
      "text/plain": [
       "5"
      ]
     },
     "execution_count": 55,
     "metadata": {},
     "output_type": "execute_result"
    }
   ],
   "source": [
    "ma_liste[1]"
   ]
  },
  {
   "cell_type": "code",
   "execution_count": 56,
   "id": "ff75a116",
   "metadata": {},
   "outputs": [
    {
     "data": {
      "text/plain": [
       "36"
      ]
     },
     "execution_count": 56,
     "metadata": {},
     "output_type": "execute_result"
    }
   ],
   "source": [
    "ma_liste[-1]"
   ]
  },
  {
   "cell_type": "code",
   "execution_count": 57,
   "id": "d6ffbe3c",
   "metadata": {},
   "outputs": [
    {
     "data": {
      "text/plain": [
       "[12, 'Toto']"
      ]
     },
     "execution_count": 57,
     "metadata": {},
     "output_type": "execute_result"
    }
   ],
   "source": [
    "ma_liste[-2]"
   ]
  },
  {
   "cell_type": "code",
   "execution_count": 58,
   "id": "199e69eb",
   "metadata": {},
   "outputs": [
    {
     "data": {
      "text/plain": [
       "12"
      ]
     },
     "execution_count": 58,
     "metadata": {},
     "output_type": "execute_result"
    }
   ],
   "source": [
    "ma_liste[-2][0]"
   ]
  },
  {
   "cell_type": "code",
   "execution_count": 59,
   "id": "9091d57f",
   "metadata": {},
   "outputs": [
    {
     "data": {
      "text/plain": [
       "[0, 0, 0, 0, 0, 0, 0, 0, 0, 0, 0, 0]"
      ]
     },
     "execution_count": 59,
     "metadata": {},
     "output_type": "execute_result"
    }
   ],
   "source": [
    "autre_liste = [0] * 12\n",
    "autre_liste"
   ]
  },
  {
   "cell_type": "code",
   "execution_count": 66,
   "id": "db58dab8",
   "metadata": {},
   "outputs": [
    {
     "name": "stdout",
     "output_type": "stream",
     "text": [
      "0\n",
      "dans la boucle\n",
      "1\n",
      "dans la boucle\n",
      "2\n",
      "dans la boucle\n",
      "3\n",
      "dans la boucle\n",
      "4\n",
      "dans la boucle\n",
      "5\n",
      "dans la boucle\n",
      "6\n",
      "dans la boucle\n",
      "7\n",
      "dans la boucle\n",
      "8\n",
      "dans la boucle\n",
      "9\n",
      "dans la boucle\n",
      "hors boucle\n"
     ]
    }
   ],
   "source": [
    "i = 0\n",
    "\n",
    "while i < 10:\n",
    "    print(i)\n",
    "    i += 1 # i = i + 1\n",
    "    print(\"dans la boucle\")\n",
    "print(\"hors boucle\")"
   ]
  },
  {
   "cell_type": "code",
   "execution_count": 67,
   "id": "a1a4b39c",
   "metadata": {},
   "outputs": [
    {
     "name": "stdout",
     "output_type": "stream",
     "text": [
      "0\n",
      "1\n",
      "2\n",
      "3\n",
      "4\n",
      "5\n",
      "6\n",
      "7\n",
      "8\n",
      "9\n"
     ]
    }
   ],
   "source": [
    "for i in range(10):\n",
    "    print(i)\n",
    "   \n",
    "# Structure conditionnelle\n",
    "if age < 18 or age == 18: # and\n",
    "    print(\"mineur\")\n",
    "elif age < 21:\n",
    "    print(\"mineur aux US\")\n",
    "else:\n",
    "    print(\"majeur\")\n",
    "\n",
    "# i est un multiple de 3\n",
    "i % 3 == 0"
   ]
  },
  {
   "cell_type": "code",
   "execution_count": 68,
   "id": "6ad5cbbb",
   "metadata": {},
   "outputs": [
    {
     "name": "stdout",
     "output_type": "stream",
     "text": [
      "2\n",
      "6\n",
      "1\n",
      "True\n",
      "Bonjour\n"
     ]
    }
   ],
   "source": [
    "for i in [2,6,1,True,\"Bonjour\"]:\n",
    "    print(i)"
   ]
  },
  {
   "cell_type": "code",
   "execution_count": 70,
   "id": "8352615f",
   "metadata": {},
   "outputs": [
    {
     "name": "stdout",
     "output_type": "stream",
     "text": [
      "mineur\n"
     ]
    }
   ],
   "source": [
    "age = 10.0\n",
    "\n",
    "if age > 18:\n",
    "    print(\"majeur\")\n",
    "else:\n",
    "    print(\"mineur\")"
   ]
  },
  {
   "cell_type": "code",
   "execution_count": 71,
   "id": "f1e6f6b7",
   "metadata": {},
   "outputs": [
    {
     "data": {
      "text/plain": [
       "[0, 1, 2, 3, 4, 5, 6, 7, 8]"
      ]
     },
     "execution_count": 71,
     "metadata": {},
     "output_type": "execute_result"
    }
   ],
   "source": [
    "list(range(9))"
   ]
  },
  {
   "cell_type": "markdown",
   "id": "f87448aa",
   "metadata": {},
   "source": [
    "range(9)"
   ]
  },
  {
   "cell_type": "markdown",
   "id": "61619fde",
   "metadata": {},
   "source": [
    "## Fizz Buzz \n",
    "\n",
    "pour tous les entiers de 0 à 100\n",
    "afficher:\n",
    "* \"fizz\" si l'entier est un multiple de 3\n",
    "* \"buzz\" si l'entier est un multiple de 5\n",
    "* \"bazz\" si l'entier est un multiple de 3 et 5\n",
    "* sinon vous affichez l'entier\n",
    "\n",
    "Résultat attendu:\n",
    "* \"bazz\"\n",
    "* 1\n",
    "* 2\n",
    "* fizz\n",
    "* 4\n",
    "* buzz\n",
    "* fizz\n",
    "\n",
    "..."
   ]
  },
  {
   "cell_type": "code",
   "execution_count": 75,
   "id": "edae67fb",
   "metadata": {},
   "outputs": [
    {
     "name": "stdout",
     "output_type": "stream",
     "text": [
      "bazz\n",
      "1\n",
      "2\n",
      "fizz\n",
      "4\n",
      "buzz\n",
      "fizz\n",
      "7\n",
      "8\n",
      "fizz\n",
      "buzz\n",
      "11\n",
      "fizz\n",
      "13\n",
      "14\n",
      "bazz\n",
      "16\n",
      "17\n",
      "fizz\n",
      "19\n",
      "buzz\n",
      "fizz\n",
      "22\n",
      "23\n",
      "fizz\n",
      "buzz\n",
      "26\n",
      "fizz\n",
      "28\n",
      "29\n",
      "bazz\n",
      "31\n",
      "32\n",
      "fizz\n",
      "34\n",
      "buzz\n",
      "fizz\n",
      "37\n",
      "38\n",
      "fizz\n",
      "buzz\n",
      "41\n",
      "fizz\n",
      "43\n",
      "44\n",
      "bazz\n",
      "46\n",
      "47\n",
      "fizz\n",
      "49\n",
      "buzz\n",
      "fizz\n",
      "52\n",
      "53\n",
      "fizz\n",
      "buzz\n",
      "56\n",
      "fizz\n",
      "58\n",
      "59\n",
      "bazz\n",
      "61\n",
      "62\n",
      "fizz\n",
      "64\n",
      "buzz\n",
      "fizz\n",
      "67\n",
      "68\n",
      "fizz\n",
      "buzz\n",
      "71\n",
      "fizz\n",
      "73\n",
      "74\n",
      "bazz\n",
      "76\n",
      "77\n",
      "fizz\n",
      "79\n",
      "buzz\n",
      "fizz\n",
      "82\n",
      "83\n",
      "fizz\n",
      "buzz\n",
      "86\n",
      "fizz\n",
      "88\n",
      "89\n",
      "bazz\n",
      "91\n",
      "92\n",
      "fizz\n",
      "94\n",
      "buzz\n",
      "fizz\n",
      "97\n",
      "98\n",
      "fizz\n"
     ]
    }
   ],
   "source": [
    "for i in range(101):\n",
    "    if i % 3 == 0 and i % 5 == 0:\n",
    "        print(\"bazz\")\n",
    "    elif i % 5 == 0:\n",
    "        print(\"buzz\")\n",
    "    elif i % 3 == 0:\n",
    "        print(\"fizz\")\n",
    "    else:\n",
    "        print(i)\n",
    "    "
   ]
  },
  {
   "cell_type": "code",
   "execution_count": 78,
   "id": "368550b7",
   "metadata": {},
   "outputs": [
    {
     "name": "stdout",
     "output_type": "stream",
     "text": [
      "bazz\n",
      "1\n",
      "2\n",
      "fizz\n",
      "4\n",
      "buzz\n",
      "fizz\n",
      "7\n",
      "8\n",
      "fizz\n",
      "buzz\n",
      "11\n",
      "fizz\n",
      "13\n",
      "14\n",
      "bazz\n",
      "16\n",
      "17\n",
      "fizz\n",
      "19\n",
      "buzz\n",
      "fizz\n",
      "22\n",
      "23\n",
      "fizz\n",
      "buzz\n",
      "26\n",
      "fizz\n",
      "28\n",
      "29\n",
      "bazz\n",
      "31\n",
      "32\n",
      "fizz\n",
      "34\n",
      "buzz\n",
      "fizz\n",
      "37\n",
      "38\n",
      "fizz\n",
      "buzz\n",
      "41\n",
      "fizz\n",
      "43\n",
      "44\n",
      "bazz\n",
      "46\n",
      "47\n",
      "fizz\n",
      "49\n",
      "buzz\n",
      "fizz\n",
      "52\n",
      "53\n",
      "fizz\n",
      "buzz\n",
      "56\n",
      "fizz\n",
      "58\n",
      "59\n",
      "bazz\n",
      "61\n",
      "62\n",
      "fizz\n",
      "64\n",
      "buzz\n",
      "fizz\n",
      "67\n",
      "68\n",
      "fizz\n",
      "buzz\n",
      "71\n",
      "fizz\n",
      "73\n",
      "74\n",
      "bazz\n",
      "76\n",
      "77\n",
      "fizz\n",
      "79\n",
      "buzz\n",
      "fizz\n",
      "82\n",
      "83\n",
      "fizz\n",
      "buzz\n",
      "86\n",
      "fizz\n",
      "88\n",
      "89\n",
      "bazz\n",
      "91\n",
      "92\n",
      "fizz\n",
      "94\n",
      "buzz\n",
      "fizz\n",
      "97\n",
      "98\n",
      "fizz\n",
      "buzz\n"
     ]
    }
   ],
   "source": [
    "i = 0\n",
    "while i <= 100:\n",
    "    if i % 3 == 0:\n",
    "        if i % 5 == 0:\n",
    "            print(\"bazz\")\n",
    "        else:\n",
    "            print(\"fizz\")\n",
    "    elif i % 5 == 0:\n",
    "        print(\"buzz\")\n",
    "    else:\n",
    "        print(i)\n",
    "    i += 1\n",
    "    "
   ]
  },
  {
   "cell_type": "code",
   "execution_count": null,
   "id": "78ef8ed0",
   "metadata": {},
   "outputs": [],
   "source": [
    "age = 32\n",
    "\n",
    "if age % 2 == 0:\n",
    "    print(\"pair\")\n",
    "    grerhhft\n",
    "else:\n",
    "    print(\"impair\")\n",
    "\n",
    "if age > 18:\n",
    "    print(\"majeur\")\n",
    "else:\n",
    "    print(\"mineur\")\n"
   ]
  },
  {
   "cell_type": "code",
   "execution_count": 79,
   "id": "32a73046",
   "metadata": {},
   "outputs": [
    {
     "name": "stdout",
     "output_type": "stream",
     "text": [
      "Quel est votre nom ?Mickael\n"
     ]
    }
   ],
   "source": [
    "nom = input(\"Quel est votre nom ?\")"
   ]
  },
  {
   "cell_type": "code",
   "execution_count": 86,
   "id": "9a0b1dce",
   "metadata": {},
   "outputs": [
    {
     "name": "stdout",
     "output_type": "stream",
     "text": [
      "Help on method raw_input in module ipykernel.kernelbase:\n",
      "\n",
      "raw_input(prompt='') method of ipykernel.ipkernel.IPythonKernel instance\n",
      "    Forward raw_input to frontends\n",
      "    \n",
      "    Raises\n",
      "    ------\n",
      "    StdinNotImplementedError if active frontend doesn't support stdin.\n",
      "\n"
     ]
    }
   ],
   "source": [
    "dir(nom)\n",
    "help(input)"
   ]
  },
  {
   "cell_type": "markdown",
   "id": "906ba5b1",
   "metadata": {},
   "source": [
    "faire une Variable liste_personnes\n",
    "qui va être une liste de dico\n",
    "chaque dictionnaire va contenir un nom et un age\n",
    "\n",
    "Pour contruire cette liste_personnes\n",
    "itérez :\n",
    "* une demande de nom\n",
    "* une demande d'age\n",
    "* une option arréter ou continuer\n",
    "\n",
    "\n",
    "Y/N"
   ]
  },
  {
   "cell_type": "code",
   "execution_count": 92,
   "id": "a1114ea1",
   "metadata": {},
   "outputs": [
    {
     "name": "stdout",
     "output_type": "stream",
     "text": [
      "[2, 4, 5]\n",
      "[2, 4, 5, [10, 22]]\n",
      "[2, 4, 5, [10, 22], 'a', 'b']\n"
     ]
    }
   ],
   "source": [
    "une_liste = [2, 4]\n",
    "une_liste.append(5)\n",
    "print(une_liste)\n",
    "une_liste.append([10, 22])\n",
    "print(une_liste)\n",
    "une_liste.extend({\"a\": 11, \"b\": 272})\n",
    "print(une_liste)\n"
   ]
  },
  {
   "cell_type": "code",
   "execution_count": null,
   "id": "1bca8ac8",
   "metadata": {},
   "outputs": [],
   "source": [
    "liste_personne = []\n",
    "\n",
    "\n",
    "personne = {\"nom\": \"Lionel\", \"age\": 62}\n",
    "liste_personne.append(personne)\n"
   ]
  },
  {
   "cell_type": "code",
   "execution_count": null,
   "id": "06fad4a0",
   "metadata": {},
   "outputs": [],
   "source": [
    "liste_personne = []\n",
    "\n",
    "nom = input(\"Quel est votre nom ?\")\n",
    "# personne = {\"nom\": \"nom\", \"age\": 62} # Attention \"nom\" est une valeur fixe\n",
    "personne = {\"nom\": nom, \"age\": 62} # ici nom est la variable nom\n",
    "liste_personne.append(personne)\n",
    "\n",
    "print(personne)"
   ]
  },
  {
   "cell_type": "code",
   "execution_count": 91,
   "id": "6c3be57e",
   "metadata": {},
   "outputs": [
    {
     "name": "stdout",
     "output_type": "stream",
     "text": [
      "Quel est votre nom ?bol\n",
      "Quel est votre age ?34\n",
      "{'nom': 'bol', 'age': '34'}\n"
     ]
    }
   ],
   "source": [
    "liste_personne = []\n",
    "continuer = \"Y\"\n",
    "\n",
    "while continuer == \"Y\":\n",
    "    nom = input(\"Quel est votre nom ?\\n\")\n",
    "    age = input(\"Quel est votre age ?\\n\")\n",
    "    personne = {\"nom\": nom, \"age\": int(age)}\n",
    "    liste_personne.append(personne)\n",
    "    continuer = input(\"Voulez-vous continuer ? Y/N\")\n",
    "    while not continuer.upper() in [\"Y\", \"N\"]:\n",
    "        print(\"erreur\")\n",
    "        continuer = input(\"Voulez-vous continuer ? Y/N\")\n",
    "\n",
    "print(liste_personne)"
   ]
  },
  {
   "cell_type": "code",
   "execution_count": 100,
   "id": "95fc9e42",
   "metadata": {},
   "outputs": [
    {
     "name": "stdout",
     "output_type": "stream",
     "text": [
      "ok\n"
     ]
    }
   ],
   "source": [
    "dir(liste_personne)\n",
    "print(\"ok\")"
   ]
  },
  {
   "cell_type": "code",
   "execution_count": 98,
   "id": "2daaa9f3",
   "metadata": {},
   "outputs": [
    {
     "name": "stdout",
     "output_type": "stream",
     "text": [
      "Clio\n",
      "Tesla\n",
      "Mercedes\n",
      "Tesla\n"
     ]
    }
   ],
   "source": [
    "class Voiture:\n",
    "    def __init__(self, marque):\n",
    "        self.marque = marque\n",
    "        self.position = 0\n",
    "        \n",
    "ma_voiture = Voiture(\"Clio\")\n",
    "autre_voiture = Voiture(\"Tesla\")\n",
    "\n",
    "print(ma_voiture.marque)\n",
    "print(autre_voiture.marque)\n",
    "\n",
    "ma_voiture.marque = \"Mercedes\"\n",
    "\n",
    "print(ma_voiture.marque)\n",
    "print(autre_voiture.marque)\n"
   ]
  },
  {
   "cell_type": "code",
   "execution_count": 106,
   "id": "915e878e",
   "metadata": {},
   "outputs": [
    {
     "data": {
      "text/plain": [
       "2"
      ]
     },
     "execution_count": 106,
     "metadata": {},
     "output_type": "execute_result"
    }
   ],
   "source": [
    "from random import randint\n",
    "\n",
    "randint(0,2)"
   ]
  },
  {
   "cell_type": "markdown",
   "id": "b2d58e41",
   "metadata": {},
   "source": [
    "On veut construire aléatoirement\n",
    "trois voitures (voiture1, voiture2, voiture3)\n",
    "chaque voiture à une position et une marque\n",
    "position entre 0 et 10\n",
    "marque entre \"Clio\", \"Mercedes\", \"Tesla\"\n",
    "voiture1 = {\"}\n",
    "\n",
    "2 étape\n",
    "Pendant 10 tours faire avancer les voitures (position += 1)\n",
    "\n",
    "3 étape\n",
    "Pendant 10 tours faire bouger aléatoirement les voitures (position += random(-4, 4) )\n"
   ]
  }
 ],
 "metadata": {
  "kernelspec": {
   "display_name": "Python 3 (ipykernel)",
   "language": "python",
   "name": "python3"
  },
  "language_info": {
   "codemirror_mode": {
    "name": "ipython",
    "version": 3
   },
   "file_extension": ".py",
   "mimetype": "text/x-python",
   "name": "python",
   "nbconvert_exporter": "python",
   "pygments_lexer": "ipython3",
   "version": "3.9.12"
  }
 },
 "nbformat": 4,
 "nbformat_minor": 5
}
