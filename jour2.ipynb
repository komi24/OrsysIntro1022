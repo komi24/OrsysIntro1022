{
 "cells": [
  {
   "cell_type": "markdown",
   "id": "140250ce",
   "metadata": {},
   "source": [
    "## Rappel d'hier"
   ]
  },
  {
   "cell_type": "markdown",
   "id": "f0ce9fe8",
   "metadata": {},
   "source": [
    "#### Les listes"
   ]
  },
  {
   "cell_type": "code",
   "execution_count": 10,
   "id": "0c57d940",
   "metadata": {},
   "outputs": [
    {
     "name": "stdout",
     "output_type": "stream",
     "text": [
      "12\n",
      "Bonjour\n",
      "2.0\n",
      "14.0\n",
      "[True, 12]\n",
      "[True, 12]\n",
      "[12, 'Bonjour', [2, 5], 2.0]\n",
      "[True, 12, 'Bonjour', [2, 5]]\n",
      "[True, 'Bonjour', 2.0]\n",
      "[True, 'Bonjour']\n",
      "[2.0, [2, 5], 'Bonjour', 12, True]\n"
     ]
    }
   ],
   "source": [
    "ma_liste = [True, 12, \"Bonjour\", [2, 5], 2.0]\n",
    "\n",
    "print(ma_liste[1])\n",
    "print(ma_liste[2])\n",
    "print(ma_liste[-1])\n",
    "print(ma_liste[1] + ma_liste[-1])\n",
    "\n",
    "print(ma_liste[0:2])\n",
    "print(ma_liste[:2])\n",
    "print(ma_liste[1:])\n",
    "print(ma_liste[:-1])\n",
    "print(ma_liste[::2])\n",
    "print(ma_liste[0:4:2])\n",
    "print(ma_liste[::-1])\n"
   ]
  },
  {
   "cell_type": "code",
   "execution_count": null,
   "id": "a1469402",
   "metadata": {},
   "outputs": [],
   "source": [
    "ma_liste = [12, 5, 8, 9, 10]\n",
    "sorted(ma_liste)\n",
    "print(ma_liste) # Pas de modification de ma_liste\n"
   ]
  },
  {
   "cell_type": "code",
   "execution_count": 14,
   "id": "b1a814e2",
   "metadata": {},
   "outputs": [
    {
     "name": "stdout",
     "output_type": "stream",
     "text": [
      "[12, 5, 8, 9, 10]\n",
      "[5, 8, 9, 10, 12]\n"
     ]
    }
   ],
   "source": [
    "ma_liste = [12, 5, 8, 9, 10]\n",
    "a = sorted(ma_liste)\n",
    "print(ma_liste)\n",
    "print(a)"
   ]
  },
  {
   "cell_type": "code",
   "execution_count": 15,
   "id": "0a5b1e1f",
   "metadata": {},
   "outputs": [
    {
     "name": "stdout",
     "output_type": "stream",
     "text": [
      "[5, 8, 9, 10, 12]\n"
     ]
    }
   ],
   "source": [
    "print(sorted(ma_liste))"
   ]
  },
  {
   "cell_type": "code",
   "execution_count": 35,
   "id": "c13e69bc",
   "metadata": {},
   "outputs": [
    {
     "name": "stdout",
     "output_type": "stream",
     "text": [
      "0\n",
      "1\n",
      "2\n",
      "3\n",
      "4\n",
      "5\n",
      "6\n",
      "7\n",
      "8\n",
      "9\n"
     ]
    }
   ],
   "source": [
    "for i in range(10):\n",
    "    print(i)"
   ]
  },
  {
   "cell_type": "code",
   "execution_count": 65,
   "id": "55b4c15e",
   "metadata": {},
   "outputs": [
    {
     "name": "stdout",
     "output_type": "stream",
     "text": [
      "0\n",
      "True\n",
      "1\n",
      "12\n",
      "2\n",
      "Bonjour\n",
      "3\n",
      "[2, 5]\n",
      "4\n",
      "2.0\n"
     ]
    }
   ],
   "source": [
    "ma_liste = [True, 12, \"Bonjour\", [2, 5], 2.0]\n",
    "for idx, element in enumerate(ma_liste):\n",
    "    print(idx)\n",
    "    print(element)"
   ]
  },
  {
   "cell_type": "code",
   "execution_count": 37,
   "id": "6918df21",
   "metadata": {},
   "outputs": [
    {
     "name": "stdout",
     "output_type": "stream",
     "text": [
      "[2, 4]\n",
      "[4, 2]\n",
      "None\n",
      "2\n"
     ]
    }
   ],
   "source": [
    "ma_liste_func = [sorted, print, len]\n",
    "for func in ma_liste_func:\n",
    "    print(func([4, 2]))"
   ]
  },
  {
   "cell_type": "code",
   "execution_count": 43,
   "id": "64643fbe",
   "metadata": {},
   "outputs": [],
   "source": [
    "ma_liste = [2, 4, 6, 7, 12]\n",
    "a, b, *c = ma_liste"
   ]
  },
  {
   "cell_type": "code",
   "execution_count": 44,
   "id": "99b36791",
   "metadata": {},
   "outputs": [
    {
     "name": "stdout",
     "output_type": "stream",
     "text": [
      "2\n",
      "4\n",
      "[6, 7, 12]\n"
     ]
    }
   ],
   "source": [
    "print(a)\n",
    "print(b)\n",
    "print(c)\n"
   ]
  },
  {
   "cell_type": "code",
   "execution_count": 45,
   "id": "eb0aa6cc",
   "metadata": {},
   "outputs": [],
   "source": [
    "mon_dico = {\"nom\": \"BOL\", \"prenom\": \"Mick\", \"age\": 35}\n",
    "\n",
    "autre_dico = {\n",
    "    **mon_dico,\n",
    "    \"spe\": \"Python\"\n",
    "}"
   ]
  },
  {
   "cell_type": "code",
   "execution_count": 46,
   "id": "beb6c128",
   "metadata": {},
   "outputs": [
    {
     "data": {
      "text/plain": [
       "{'nom': 'BOL', 'prenom': 'Mick', 'age': 35, 'spe': 'Python'}"
      ]
     },
     "execution_count": 46,
     "metadata": {},
     "output_type": "execute_result"
    }
   ],
   "source": [
    "autre_dico"
   ]
  },
  {
   "cell_type": "markdown",
   "id": "f239af87",
   "metadata": {},
   "source": [
    "#### Les dictionnaires\n"
   ]
  },
  {
   "cell_type": "code",
   "execution_count": 62,
   "id": "6493d046",
   "metadata": {},
   "outputs": [],
   "source": [
    "mon_dictionnaire = {\n",
    "    \"cle\": 15,\n",
    "    True: \"Bonjour\" \n",
    "}\n"
   ]
  },
  {
   "cell_type": "code",
   "execution_count": 63,
   "id": "4cd7e3ac",
   "metadata": {},
   "outputs": [],
   "source": [
    "mon_dico = {\"nom\": \"BOL\", \"prenom\": \"Mick\", \"age\": 35}\n",
    "\n",
    "autre_dico = {\n",
    "    **mon_dico,\n",
    "    \"spe\": \"Python\"\n",
    "}"
   ]
  },
  {
   "cell_type": "code",
   "execution_count": 49,
   "id": "73565cf6",
   "metadata": {},
   "outputs": [
    {
     "name": "stdout",
     "output_type": "stream",
     "text": [
      "1\n",
      "0\n",
      "-4354716469132850917\n"
     ]
    }
   ],
   "source": [
    "print(hash(True))\n",
    "print(hash(False))\n",
    "print(hash(\"Bonjour\"))"
   ]
  },
  {
   "cell_type": "code",
   "execution_count": 50,
   "id": "c7fe5a87",
   "metadata": {},
   "outputs": [
    {
     "name": "stdout",
     "output_type": "stream",
     "text": [
      "-4354716469132850917\n"
     ]
    }
   ],
   "source": [
    "print(hash(\"Bonjour\"))"
   ]
  },
  {
   "cell_type": "code",
   "execution_count": 51,
   "id": "36720109",
   "metadata": {},
   "outputs": [
    {
     "name": "stdout",
     "output_type": "stream",
     "text": [
      "-1987876321187463247\n"
     ]
    }
   ],
   "source": [
    "print(hash(\"bonjour\"))"
   ]
  },
  {
   "cell_type": "code",
   "execution_count": 54,
   "id": "21317609",
   "metadata": {},
   "outputs": [
    {
     "ename": "TypeError",
     "evalue": "unhashable type: 'list'",
     "output_type": "error",
     "traceback": [
      "\u001b[1;31m---------------------------------------------------------------------------\u001b[0m",
      "\u001b[1;31mTypeError\u001b[0m                                 Traceback (most recent call last)",
      "Input \u001b[1;32mIn [54]\u001b[0m, in \u001b[0;36m<cell line: 1>\u001b[1;34m()\u001b[0m\n\u001b[1;32m----> 1\u001b[0m \u001b[38;5;28mprint\u001b[39m(\u001b[38;5;28;43mhash\u001b[39;49m\u001b[43m(\u001b[49m\u001b[43m[\u001b[49m\u001b[38;5;241;43m1\u001b[39;49m\u001b[43m,\u001b[49m\u001b[38;5;241;43m2\u001b[39;49m\u001b[43m]\u001b[49m\u001b[43m)\u001b[49m)\n",
      "\u001b[1;31mTypeError\u001b[0m: unhashable type: 'list'"
     ]
    }
   ],
   "source": [
    "print(hash([1,2]))"
   ]
  },
  {
   "cell_type": "code",
   "execution_count": 55,
   "id": "28de7d00",
   "metadata": {},
   "outputs": [
    {
     "name": "stdout",
     "output_type": "stream",
     "text": [
      "-3550055125485641917\n"
     ]
    }
   ],
   "source": [
    "print(hash((1,2)))"
   ]
  },
  {
   "cell_type": "code",
   "execution_count": 58,
   "id": "eda5b2a0",
   "metadata": {},
   "outputs": [
    {
     "ename": "TypeError",
     "evalue": "'tuple' object does not support item assignment",
     "output_type": "error",
     "traceback": [
      "\u001b[1;31m---------------------------------------------------------------------------\u001b[0m",
      "\u001b[1;31mTypeError\u001b[0m                                 Traceback (most recent call last)",
      "Input \u001b[1;32mIn [58]\u001b[0m, in \u001b[0;36m<cell line: 2>\u001b[1;34m()\u001b[0m\n\u001b[0;32m      1\u001b[0m mon_tuple \u001b[38;5;241m=\u001b[39m (\u001b[38;5;241m4\u001b[39m, \u001b[38;5;28;01mTrue\u001b[39;00m, \u001b[38;5;241m12\u001b[39m)\n\u001b[1;32m----> 2\u001b[0m mon_tuple[\u001b[38;5;241m0\u001b[39m] \u001b[38;5;241m=\u001b[39m \u001b[38;5;241m6\u001b[39m\n",
      "\u001b[1;31mTypeError\u001b[0m: 'tuple' object does not support item assignment"
     ]
    }
   ],
   "source": [
    "mon_tuple = (4, True, 12)\n",
    "mon_tuple[0] = 6"
   ]
  },
  {
   "cell_type": "code",
   "execution_count": 59,
   "id": "6a64b367",
   "metadata": {},
   "outputs": [],
   "source": [
    "ma_liste = [4, True, 12]\n",
    "ma_liste[0] = 6"
   ]
  },
  {
   "cell_type": "code",
   "execution_count": 61,
   "id": "073640f0",
   "metadata": {},
   "outputs": [
    {
     "name": "stdout",
     "output_type": "stream",
     "text": [
      "(4, True, [12, 5, 6])\n"
     ]
    }
   ],
   "source": [
    "mon_tuple = (4, True, [12, 5])\n",
    "mon_tuple[-1].append(6)\n",
    "print(mon_tuple)"
   ]
  },
  {
   "cell_type": "code",
   "execution_count": 68,
   "id": "81ff883f",
   "metadata": {},
   "outputs": [
    {
     "ename": "TypeError",
     "evalue": "unhashable type: 'dict'",
     "output_type": "error",
     "traceback": [
      "\u001b[1;31m---------------------------------------------------------------------------\u001b[0m",
      "\u001b[1;31mTypeError\u001b[0m                                 Traceback (most recent call last)",
      "Input \u001b[1;32mIn [68]\u001b[0m, in \u001b[0;36m<cell line: 1>\u001b[1;34m()\u001b[0m\n\u001b[1;32m----> 1\u001b[0m mon_set \u001b[38;5;241m=\u001b[39m {\u001b[38;5;241m2\u001b[39m, \u001b[38;5;28;01mTrue\u001b[39;00m, \u001b[38;5;124m\"\u001b[39m\u001b[38;5;124mbonjour\u001b[39m\u001b[38;5;124m\"\u001b[39m, \u001b[38;5;241m2\u001b[39m, {\u001b[38;5;124m\"\u001b[39m\u001b[38;5;124mnom\u001b[39m\u001b[38;5;124m\"\u001b[39m: \u001b[38;5;124m\"\u001b[39m\u001b[38;5;124mBol\u001b[39m\u001b[38;5;124m\"\u001b[39m}}\n\u001b[0;32m      2\u001b[0m mon_set\n",
      "\u001b[1;31mTypeError\u001b[0m: unhashable type: 'dict'"
     ]
    }
   ],
   "source": [
    "mon_set = {2, True, \"bonjour\", 2}\n",
    "mon_set"
   ]
  },
  {
   "cell_type": "code",
   "execution_count": 67,
   "id": "de558881",
   "metadata": {},
   "outputs": [
    {
     "data": {
      "text/plain": [
       "True"
      ]
     },
     "execution_count": 67,
     "metadata": {},
     "output_type": "execute_result"
    }
   ],
   "source": [
    "2 in mon_set"
   ]
  },
  {
   "cell_type": "code",
   "execution_count": 71,
   "id": "fa807c09",
   "metadata": {},
   "outputs": [
    {
     "name": "stdout",
     "output_type": "stream",
     "text": [
      "{'prenom', 'age', 'nom'}\n",
      "{'Mick', 35, 'BOL'}\n"
     ]
    }
   ],
   "source": [
    "print(set(mon_dico))\n",
    "print(set(mon_dico.values()))\n"
   ]
  },
  {
   "cell_type": "code",
   "execution_count": 72,
   "id": "3fb6cc94",
   "metadata": {},
   "outputs": [
    {
     "data": {
      "text/plain": [
       "array(['S', 'C', 'Q', nan], dtype=object)"
      ]
     },
     "execution_count": 72,
     "metadata": {},
     "output_type": "execute_result"
    }
   ],
   "source": [
    "import pandas as pd\n",
    "\n",
    "df = pd.read_csv(\"titanic.csv\")\n",
    "df.Embarked.unique()"
   ]
  },
  {
   "cell_type": "code",
   "execution_count": 73,
   "id": "e873a092",
   "metadata": {},
   "outputs": [
    {
     "data": {
      "text/plain": [
       "{'nom': 'BOL', 'prenom': 'Mick', 'age': 35}"
      ]
     },
     "execution_count": 73,
     "metadata": {},
     "output_type": "execute_result"
    }
   ],
   "source": [
    "mon_dico"
   ]
  },
  {
   "cell_type": "code",
   "execution_count": 74,
   "id": "726f6c5a",
   "metadata": {},
   "outputs": [
    {
     "name": "stdout",
     "output_type": "stream",
     "text": [
      "nom\n",
      "prenom\n",
      "age\n"
     ]
    }
   ],
   "source": [
    "for key in mon_dico:\n",
    "    print(key)"
   ]
  },
  {
   "cell_type": "code",
   "execution_count": 75,
   "id": "dd773162",
   "metadata": {},
   "outputs": [
    {
     "name": "stdout",
     "output_type": "stream",
     "text": [
      "nom\n",
      "BOL\n",
      "prenom\n",
      "Mick\n",
      "age\n",
      "35\n"
     ]
    }
   ],
   "source": [
    "for key, value in mon_dico.items():\n",
    "    print(key)\n",
    "    print(value)"
   ]
  },
  {
   "cell_type": "code",
   "execution_count": null,
   "id": "56769aa6",
   "metadata": {},
   "outputs": [],
   "source": []
  }
 ],
 "metadata": {
  "kernelspec": {
   "display_name": "Python 3 (ipykernel)",
   "language": "python",
   "name": "python3"
  },
  "language_info": {
   "codemirror_mode": {
    "name": "ipython",
    "version": 3
   },
   "file_extension": ".py",
   "mimetype": "text/x-python",
   "name": "python",
   "nbconvert_exporter": "python",
   "pygments_lexer": "ipython3",
   "version": "3.9.12"
  }
 },
 "nbformat": 4,
 "nbformat_minor": 5
}
