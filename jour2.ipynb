{
 "cells": [
  {
   "cell_type": "markdown",
   "id": "ec23e2c0",
   "metadata": {},
   "source": [
    "## Rappel d'hier"
   ]
  },
  {
   "cell_type": "markdown",
   "id": "127018fc",
   "metadata": {},
   "source": [
    "#### Les listes"
   ]
  },
  {
   "cell_type": "code",
   "execution_count": 10,
   "id": "d5daf9ca",
   "metadata": {},
   "outputs": [
    {
     "name": "stdout",
     "output_type": "stream",
     "text": [
      "12\n",
      "Bonjour\n",
      "2.0\n",
      "14.0\n",
      "[True, 12]\n",
      "[True, 12]\n",
      "[12, 'Bonjour', [2, 5], 2.0]\n",
      "[True, 12, 'Bonjour', [2, 5]]\n",
      "[True, 'Bonjour', 2.0]\n",
      "[True, 'Bonjour']\n",
      "[2.0, [2, 5], 'Bonjour', 12, True]\n"
     ]
    }
   ],
   "source": [
    "ma_liste = [True, 12, \"Bonjour\", [2, 5], 2.0]\n",
    "\n",
    "print(ma_liste[1])\n",
    "print(ma_liste[2])\n",
    "print(ma_liste[-1])\n",
    "print(ma_liste[1] + ma_liste[-1])\n",
    "\n",
    "print(ma_liste[0:2])\n",
    "print(ma_liste[:2])\n",
    "print(ma_liste[1:])\n",
    "print(ma_liste[:-1])\n",
    "print(ma_liste[::2])\n",
    "print(ma_liste[0:4:2])\n",
    "print(ma_liste[::-1])\n"
   ]
  },
  {
   "cell_type": "code",
   "execution_count": null,
   "id": "2e092397",
   "metadata": {},
   "outputs": [],
   "source": [
    "ma_liste = [12, 5, 8, 9, 10]\n",
    "sorted(ma_liste)\n",
    "print(ma_liste) # Pas de modification de ma_liste\n"
   ]
  },
  {
   "cell_type": "code",
   "execution_count": 14,
   "id": "72131582",
   "metadata": {},
   "outputs": [
    {
     "name": "stdout",
     "output_type": "stream",
     "text": [
      "[12, 5, 8, 9, 10]\n",
      "[5, 8, 9, 10, 12]\n"
     ]
    }
   ],
   "source": [
    "ma_liste = [12, 5, 8, 9, 10]\n",
    "a = sorted(ma_liste)\n",
    "print(ma_liste)\n",
    "print(a)"
   ]
  },
  {
   "cell_type": "code",
   "execution_count": 15,
   "id": "7e78b553",
   "metadata": {},
   "outputs": [
    {
     "name": "stdout",
     "output_type": "stream",
     "text": [
      "[5, 8, 9, 10, 12]\n"
     ]
    }
   ],
   "source": [
    "print(sorted(ma_liste))"
   ]
  },
  {
   "cell_type": "code",
   "execution_count": 35,
   "id": "6112cb2a",
   "metadata": {},
   "outputs": [
    {
     "name": "stdout",
     "output_type": "stream",
     "text": [
      "0\n",
      "1\n",
      "2\n",
      "3\n",
      "4\n",
      "5\n",
      "6\n",
      "7\n",
      "8\n",
      "9\n"
     ]
    }
   ],
   "source": [
    "for i in range(10):\n",
    "    print(i)"
   ]
  },
  {
   "cell_type": "code",
   "execution_count": 65,
   "id": "81ff7a63",
   "metadata": {},
   "outputs": [
    {
     "name": "stdout",
     "output_type": "stream",
     "text": [
      "0\n",
      "True\n",
      "1\n",
      "12\n",
      "2\n",
      "Bonjour\n",
      "3\n",
      "[2, 5]\n",
      "4\n",
      "2.0\n"
     ]
    }
   ],
   "source": [
    "ma_liste = [True, 12, \"Bonjour\", [2, 5], 2.0]\n",
    "for idx, element in enumerate(ma_liste):\n",
    "    print(idx)\n",
    "    print(element)"
   ]
  },
  {
   "cell_type": "code",
   "execution_count": 37,
   "id": "a9264272",
   "metadata": {},
   "outputs": [
    {
     "name": "stdout",
     "output_type": "stream",
     "text": [
      "[2, 4]\n",
      "[4, 2]\n",
      "None\n",
      "2\n"
     ]
    }
   ],
   "source": [
    "ma_liste_func = [sorted, print, len]\n",
    "for func in ma_liste_func:\n",
    "    print(func([4, 2]))"
   ]
  },
  {
   "cell_type": "code",
   "execution_count": 43,
   "id": "cf8d0d6d",
   "metadata": {},
   "outputs": [],
   "source": [
    "ma_liste = [2, 4, 6, 7, 12]\n",
    "a, b, *c = ma_liste"
   ]
  },
  {
   "cell_type": "code",
   "execution_count": 44,
   "id": "638c549a",
   "metadata": {},
   "outputs": [
    {
     "name": "stdout",
     "output_type": "stream",
     "text": [
      "2\n",
      "4\n",
      "[6, 7, 12]\n"
     ]
    }
   ],
   "source": [
    "print(a)\n",
    "print(b)\n",
    "print(c)\n"
   ]
  },
  {
   "cell_type": "code",
   "execution_count": 45,
   "id": "2b4e265d",
   "metadata": {},
   "outputs": [],
   "source": [
    "mon_dico = {\"nom\": \"BOL\", \"prenom\": \"Mick\", \"age\": 35}\n",
    "\n",
    "autre_dico = {\n",
    "    **mon_dico,\n",
    "    \"spe\": \"Python\"\n",
    "}"
   ]
  },
  {
   "cell_type": "code",
   "execution_count": 46,
   "id": "ed068ef0",
   "metadata": {},
   "outputs": [
    {
     "data": {
      "text/plain": [
       "{'nom': 'BOL', 'prenom': 'Mick', 'age': 35, 'spe': 'Python'}"
      ]
     },
     "execution_count": 46,
     "metadata": {},
     "output_type": "execute_result"
    }
   ],
   "source": [
    "autre_dico"
   ]
  },
  {
   "cell_type": "markdown",
   "id": "65a5207a",
   "metadata": {},
   "source": [
    "#### Les dictionnaires\n"
   ]
  },
  {
   "cell_type": "code",
   "execution_count": 62,
   "id": "5d6d5297",
   "metadata": {},
   "outputs": [],
   "source": [
    "mon_dictionnaire = {\n",
    "    \"cle\": 15,\n",
    "    True: \"Bonjour\" \n",
    "}\n"
   ]
  },
  {
   "cell_type": "code",
   "execution_count": 63,
   "id": "817ee668",
   "metadata": {},
   "outputs": [],
   "source": [
    "mon_dico = {\"nom\": \"BOL\", \"prenom\": \"Mick\", \"age\": 35}\n",
    "\n",
    "autre_dico = {\n",
    "    **mon_dico,\n",
    "    \"spe\": \"Python\"\n",
    "}"
   ]
  },
  {
   "cell_type": "code",
   "execution_count": 49,
   "id": "fa51d5db",
   "metadata": {},
   "outputs": [
    {
     "name": "stdout",
     "output_type": "stream",
     "text": [
      "1\n",
      "0\n",
      "-4354716469132850917\n"
     ]
    }
   ],
   "source": [
    "print(hash(True))\n",
    "print(hash(False))\n",
    "print(hash(\"Bonjour\"))"
   ]
  },
  {
   "cell_type": "code",
   "execution_count": 50,
   "id": "8e466fec",
   "metadata": {},
   "outputs": [
    {
     "name": "stdout",
     "output_type": "stream",
     "text": [
      "-4354716469132850917\n"
     ]
    }
   ],
   "source": [
    "print(hash(\"Bonjour\"))"
   ]
  },
  {
   "cell_type": "code",
   "execution_count": 51,
   "id": "aae1211f",
   "metadata": {},
   "outputs": [
    {
     "name": "stdout",
     "output_type": "stream",
     "text": [
      "-1987876321187463247\n"
     ]
    }
   ],
   "source": [
    "print(hash(\"bonjour\"))"
   ]
  },
  {
   "cell_type": "code",
   "execution_count": 54,
   "id": "cd376257",
   "metadata": {},
   "outputs": [
    {
     "ename": "TypeError",
     "evalue": "unhashable type: 'list'",
     "output_type": "error",
     "traceback": [
      "\u001b[1;31m---------------------------------------------------------------------------\u001b[0m",
      "\u001b[1;31mTypeError\u001b[0m                                 Traceback (most recent call last)",
      "Input \u001b[1;32mIn [54]\u001b[0m, in \u001b[0;36m<cell line: 1>\u001b[1;34m()\u001b[0m\n\u001b[1;32m----> 1\u001b[0m \u001b[38;5;28mprint\u001b[39m(\u001b[38;5;28;43mhash\u001b[39;49m\u001b[43m(\u001b[49m\u001b[43m[\u001b[49m\u001b[38;5;241;43m1\u001b[39;49m\u001b[43m,\u001b[49m\u001b[38;5;241;43m2\u001b[39;49m\u001b[43m]\u001b[49m\u001b[43m)\u001b[49m)\n",
      "\u001b[1;31mTypeError\u001b[0m: unhashable type: 'list'"
     ]
    }
   ],
   "source": [
    "print(hash([1,2]))"
   ]
  },
  {
   "cell_type": "code",
   "execution_count": 55,
   "id": "57813c9c",
   "metadata": {},
   "outputs": [
    {
     "name": "stdout",
     "output_type": "stream",
     "text": [
      "-3550055125485641917\n"
     ]
    }
   ],
   "source": [
    "print(hash((1,2)))"
   ]
  },
  {
   "cell_type": "code",
   "execution_count": 58,
   "id": "71e66cde",
   "metadata": {},
   "outputs": [
    {
     "ename": "TypeError",
     "evalue": "'tuple' object does not support item assignment",
     "output_type": "error",
     "traceback": [
      "\u001b[1;31m---------------------------------------------------------------------------\u001b[0m",
      "\u001b[1;31mTypeError\u001b[0m                                 Traceback (most recent call last)",
      "Input \u001b[1;32mIn [58]\u001b[0m, in \u001b[0;36m<cell line: 2>\u001b[1;34m()\u001b[0m\n\u001b[0;32m      1\u001b[0m mon_tuple \u001b[38;5;241m=\u001b[39m (\u001b[38;5;241m4\u001b[39m, \u001b[38;5;28;01mTrue\u001b[39;00m, \u001b[38;5;241m12\u001b[39m)\n\u001b[1;32m----> 2\u001b[0m mon_tuple[\u001b[38;5;241m0\u001b[39m] \u001b[38;5;241m=\u001b[39m \u001b[38;5;241m6\u001b[39m\n",
      "\u001b[1;31mTypeError\u001b[0m: 'tuple' object does not support item assignment"
     ]
    }
   ],
   "source": [
    "mon_tuple = (4, True, 12)\n",
    "mon_tuple[0] = 6"
   ]
  },
  {
   "cell_type": "code",
   "execution_count": 59,
   "id": "11d8e260",
   "metadata": {},
   "outputs": [],
   "source": [
    "ma_liste = [4, True, 12]\n",
    "ma_liste[0] = 6"
   ]
  },
  {
   "cell_type": "code",
   "execution_count": 61,
   "id": "769b1627",
   "metadata": {},
   "outputs": [
    {
     "name": "stdout",
     "output_type": "stream",
     "text": [
      "(4, True, [12, 5, 6])\n"
     ]
    }
   ],
   "source": [
    "mon_tuple = (4, True, [12, 5])\n",
    "mon_tuple[-1].append(6)\n",
    "print(mon_tuple)"
   ]
  },
  {
   "cell_type": "code",
   "execution_count": 68,
   "id": "9f76c872",
   "metadata": {},
   "outputs": [
    {
     "ename": "TypeError",
     "evalue": "unhashable type: 'dict'",
     "output_type": "error",
     "traceback": [
      "\u001b[1;31m---------------------------------------------------------------------------\u001b[0m",
      "\u001b[1;31mTypeError\u001b[0m                                 Traceback (most recent call last)",
      "Input \u001b[1;32mIn [68]\u001b[0m, in \u001b[0;36m<cell line: 1>\u001b[1;34m()\u001b[0m\n\u001b[1;32m----> 1\u001b[0m mon_set \u001b[38;5;241m=\u001b[39m {\u001b[38;5;241m2\u001b[39m, \u001b[38;5;28;01mTrue\u001b[39;00m, \u001b[38;5;124m\"\u001b[39m\u001b[38;5;124mbonjour\u001b[39m\u001b[38;5;124m\"\u001b[39m, \u001b[38;5;241m2\u001b[39m, {\u001b[38;5;124m\"\u001b[39m\u001b[38;5;124mnom\u001b[39m\u001b[38;5;124m\"\u001b[39m: \u001b[38;5;124m\"\u001b[39m\u001b[38;5;124mBol\u001b[39m\u001b[38;5;124m\"\u001b[39m}}\n\u001b[0;32m      2\u001b[0m mon_set\n",
      "\u001b[1;31mTypeError\u001b[0m: unhashable type: 'dict'"
     ]
    }
   ],
   "source": [
    "mon_set = {2, True, \"bonjour\", 2}\n",
    "mon_set"
   ]
  },
  {
   "cell_type": "code",
   "execution_count": 67,
   "id": "ea67c062",
   "metadata": {},
   "outputs": [
    {
     "data": {
      "text/plain": [
       "True"
      ]
     },
     "execution_count": 67,
     "metadata": {},
     "output_type": "execute_result"
    }
   ],
   "source": [
    "2 in mon_set"
   ]
  },
  {
   "cell_type": "code",
   "execution_count": 71,
   "id": "3054657d",
   "metadata": {},
   "outputs": [
    {
     "name": "stdout",
     "output_type": "stream",
     "text": [
      "{'prenom', 'age', 'nom'}\n",
      "{'Mick', 35, 'BOL'}\n"
     ]
    }
   ],
   "source": [
    "print(set(mon_dico))\n",
    "print(set(mon_dico.values()))\n"
   ]
  },
  {
   "cell_type": "code",
   "execution_count": 72,
   "id": "28da2b90",
   "metadata": {},
   "outputs": [
    {
     "data": {
      "text/plain": [
       "array(['S', 'C', 'Q', nan], dtype=object)"
      ]
     },
     "execution_count": 72,
     "metadata": {},
     "output_type": "execute_result"
    }
   ],
   "source": [
    "import pandas as pd\n",
    "\n",
    "df = pd.read_csv(\"titanic.csv\")\n",
    "df.Embarked.unique()"
   ]
  },
  {
   "cell_type": "code",
   "execution_count": 73,
   "id": "ede1fbd3",
   "metadata": {},
   "outputs": [
    {
     "data": {
      "text/plain": [
       "{'nom': 'BOL', 'prenom': 'Mick', 'age': 35}"
      ]
     },
     "execution_count": 73,
     "metadata": {},
     "output_type": "execute_result"
    }
   ],
   "source": [
    "mon_dico"
   ]
  },
  {
   "cell_type": "code",
   "execution_count": 74,
   "id": "fda1c830",
   "metadata": {},
   "outputs": [
    {
     "name": "stdout",
     "output_type": "stream",
     "text": [
      "nom\n",
      "prenom\n",
      "age\n"
     ]
    }
   ],
   "source": [
    "for key in mon_dico:\n",
    "    print(key)"
   ]
  },
  {
   "cell_type": "code",
   "execution_count": 75,
   "id": "af0920f6",
   "metadata": {},
   "outputs": [
    {
     "name": "stdout",
     "output_type": "stream",
     "text": [
      "nom\n",
      "BOL\n",
      "prenom\n",
      "Mick\n",
      "age\n",
      "35\n"
     ]
    }
   ],
   "source": [
    "for key, value in mon_dico.items():\n",
    "    print(key)\n",
    "    print(value)"
   ]
  },
  {
   "cell_type": "code",
   "execution_count": 76,
   "id": "522c2c4b",
   "metadata": {},
   "outputs": [],
   "source": [
    "mon_dico[\"job\"] = \"informatique\""
   ]
  },
  {
   "cell_type": "code",
   "execution_count": 77,
   "id": "63ed6d62",
   "metadata": {},
   "outputs": [
    {
     "data": {
      "text/plain": [
       "{'nom': 'BOL', 'prenom': 'Mick', 'age': 35, 'job': 'informatique'}"
      ]
     },
     "execution_count": 77,
     "metadata": {},
     "output_type": "execute_result"
    }
   ],
   "source": [
    "mon_dico"
   ]
  },
  {
   "cell_type": "markdown",
   "id": "771d7b40",
   "metadata": {},
   "source": [
    "## Functions"
   ]
  },
  {
   "cell_type": "code",
   "execution_count": 81,
   "id": "c565fc16",
   "metadata": {},
   "outputs": [],
   "source": [
    "# Création de la fonction\n",
    "def dire_bonjour():\n",
    "    \"\"\"\n",
    "    Une fonction qui dit bonjour\n",
    "    \"\"\"\n",
    "    print(\"Hello\")\n",
    "    \n"
   ]
  },
  {
   "cell_type": "code",
   "execution_count": 86,
   "id": "fcbe1b78",
   "metadata": {},
   "outputs": [
    {
     "name": "stdout",
     "output_type": "stream",
     "text": [
      "Hello\n",
      "Hello\n"
     ]
    },
    {
     "data": {
      "text/plain": [
       "function"
      ]
     },
     "execution_count": 86,
     "metadata": {},
     "output_type": "execute_result"
    }
   ],
   "source": [
    "dire_bonjour()\n",
    "dire_bonjour()\n",
    "dire_bonjour # IMPORTANT ici on n'appelle pas la fonction car il n'y a pas de parenthèses\n"
   ]
  },
  {
   "cell_type": "code",
   "execution_count": 89,
   "id": "f0953ec1",
   "metadata": {},
   "outputs": [
    {
     "name": "stdout",
     "output_type": "stream",
     "text": [
      "Help on function dire_bonjour in module __main__:\n",
      "\n",
      "dire_bonjour()\n",
      "    Une fonction qui dit bonjour\n",
      "\n"
     ]
    }
   ],
   "source": [
    "help(dire_bonjour)"
   ]
  },
  {
   "cell_type": "code",
   "execution_count": 90,
   "id": "d74508a7",
   "metadata": {},
   "outputs": [
    {
     "data": {
      "text/plain": [
       "function"
      ]
     },
     "execution_count": 90,
     "metadata": {},
     "output_type": "execute_result"
    }
   ],
   "source": [
    "type(dire_bonjour)"
   ]
  },
  {
   "cell_type": "code",
   "execution_count": 91,
   "id": "1f502526",
   "metadata": {},
   "outputs": [
    {
     "name": "stdout",
     "output_type": "stream",
     "text": [
      "Hello\n"
     ]
    },
    {
     "data": {
      "text/plain": [
       "NoneType"
      ]
     },
     "execution_count": 91,
     "metadata": {},
     "output_type": "execute_result"
    }
   ],
   "source": [
    "type(dire_bonjour())"
   ]
  },
  {
   "cell_type": "code",
   "execution_count": 92,
   "id": "4a2a690f",
   "metadata": {},
   "outputs": [],
   "source": [
    "# Création de la fonction\n",
    "def dire_bonjour():\n",
    "    \"\"\"\n",
    "    Une fonction qui dit bonjour\n",
    "    \"\"\"\n",
    "    print(\"Hello\")\n",
    "    return 4\n",
    "    \n"
   ]
  },
  {
   "cell_type": "code",
   "execution_count": 95,
   "id": "a554309d",
   "metadata": {},
   "outputs": [
    {
     "name": "stdout",
     "output_type": "stream",
     "text": [
      "Hello\n",
      "fin\n",
      "4\n"
     ]
    }
   ],
   "source": [
    "dire_bonjour()\n",
    "\n",
    "print(\"fin\")\n",
    "# print(a)"
   ]
  },
  {
   "cell_type": "code",
   "execution_count": 96,
   "id": "d7ef2a5e",
   "metadata": {},
   "outputs": [
    {
     "name": "stdout",
     "output_type": "stream",
     "text": [
      "Hello\n"
     ]
    },
    {
     "data": {
      "text/plain": [
       "10"
      ]
     },
     "execution_count": 96,
     "metadata": {},
     "output_type": "execute_result"
    }
   ],
   "source": [
    "dire_bonjour() + 6"
   ]
  },
  {
   "cell_type": "code",
   "execution_count": 121,
   "id": "5e9dc546",
   "metadata": {},
   "outputs": [],
   "source": [
    "# Création de la fonction\n",
    "def addition(a, b):\n",
    "#     assert type(a) == int, \"Parameter 'a' should be an int\"\n",
    "    print(\"Je fais une addition\")\n",
    "    print(a)\n",
    "    y = a + b\n",
    "    return y\n",
    "    \n"
   ]
  },
  {
   "cell_type": "code",
   "execution_count": 122,
   "id": "b1d9d9d1",
   "metadata": {},
   "outputs": [
    {
     "name": "stdout",
     "output_type": "stream",
     "text": [
      "Je fais une addition\n",
      "4\n"
     ]
    },
    {
     "data": {
      "text/plain": [
       "10"
      ]
     },
     "execution_count": 122,
     "metadata": {},
     "output_type": "execute_result"
    }
   ],
   "source": [
    "addition(4, 6)"
   ]
  },
  {
   "cell_type": "code",
   "execution_count": 123,
   "id": "9c97e5d6",
   "metadata": {},
   "outputs": [
    {
     "name": "stdout",
     "output_type": "stream",
     "text": [
      "Je fais une addition\n",
      "12\n"
     ]
    },
    {
     "data": {
      "text/plain": [
       "14"
      ]
     },
     "execution_count": 123,
     "metadata": {},
     "output_type": "execute_result"
    }
   ],
   "source": [
    "addition(12,2)"
   ]
  },
  {
   "cell_type": "code",
   "execution_count": 124,
   "id": "daf9cf07",
   "metadata": {},
   "outputs": [
    {
     "name": "stdout",
     "output_type": "stream",
     "text": [
      "Je fais une addition\n",
      "12\n"
     ]
    },
    {
     "data": {
      "text/plain": [
       "28"
      ]
     },
     "execution_count": 124,
     "metadata": {},
     "output_type": "execute_result"
    }
   ],
   "source": [
    "x = 12\n",
    "y = 16\n",
    "addition(x, y)"
   ]
  },
  {
   "cell_type": "code",
   "execution_count": 125,
   "id": "cb8f5d97",
   "metadata": {},
   "outputs": [
    {
     "name": "stdout",
     "output_type": "stream",
     "text": [
      "Je fais une addition\n",
      "(16, 4)\n"
     ]
    },
    {
     "data": {
      "text/plain": [
       "(16, 4, 12, 2)"
      ]
     },
     "execution_count": 125,
     "metadata": {},
     "output_type": "execute_result"
    }
   ],
   "source": [
    "a = (12, 2)\n",
    "b = (16, 4)\n",
    "addition(b, a) # Attention, ici b est transmis dans le parametre a de la function"
   ]
  },
  {
   "cell_type": "code",
   "execution_count": 128,
   "id": "26ba7d36",
   "metadata": {},
   "outputs": [
    {
     "name": "stdout",
     "output_type": "stream",
     "text": [
      "Je fais une addition\n",
      "gz,jghdf\n"
     ]
    },
    {
     "ename": "TypeError",
     "evalue": "can only concatenate str (not \"tuple\") to str",
     "output_type": "error",
     "traceback": [
      "\u001b[1;31m---------------------------------------------------------------------------\u001b[0m",
      "\u001b[1;31mTypeError\u001b[0m                                 Traceback (most recent call last)",
      "Input \u001b[1;32mIn [128]\u001b[0m, in \u001b[0;36m<cell line: 3>\u001b[1;34m()\u001b[0m\n\u001b[0;32m      1\u001b[0m a \u001b[38;5;241m=\u001b[39m (\u001b[38;5;241m12\u001b[39m, \u001b[38;5;241m2\u001b[39m)\n\u001b[0;32m      2\u001b[0m b \u001b[38;5;241m=\u001b[39m \u001b[38;5;124m\"\u001b[39m\u001b[38;5;124mgz,jghdf\u001b[39m\u001b[38;5;124m\"\u001b[39m\n\u001b[1;32m----> 3\u001b[0m \u001b[43maddition\u001b[49m\u001b[43m(\u001b[49m\u001b[43mb\u001b[49m\u001b[43m,\u001b[49m\u001b[43ma\u001b[49m\u001b[43m)\u001b[49m\n",
      "Input \u001b[1;32mIn [121]\u001b[0m, in \u001b[0;36maddition\u001b[1;34m(a, b)\u001b[0m\n\u001b[0;32m      4\u001b[0m \u001b[38;5;28mprint\u001b[39m(\u001b[38;5;124m\"\u001b[39m\u001b[38;5;124mJe fais une addition\u001b[39m\u001b[38;5;124m\"\u001b[39m)\n\u001b[0;32m      5\u001b[0m \u001b[38;5;28mprint\u001b[39m(a)\n\u001b[1;32m----> 6\u001b[0m y \u001b[38;5;241m=\u001b[39m \u001b[43ma\u001b[49m\u001b[43m \u001b[49m\u001b[38;5;241;43m+\u001b[39;49m\u001b[43m \u001b[49m\u001b[43mb\u001b[49m\n\u001b[0;32m      7\u001b[0m \u001b[38;5;28;01mreturn\u001b[39;00m y\n",
      "\u001b[1;31mTypeError\u001b[0m: can only concatenate str (not \"tuple\") to str"
     ]
    }
   ],
   "source": [
    "a = (12, 2)\n",
    "b = \"gz,jghdf\"\n",
    "addition(b,a)"
   ]
  },
  {
   "cell_type": "code",
   "execution_count": 149,
   "id": "d34b7f4d",
   "metadata": {},
   "outputs": [],
   "source": [
    "# Création de la fonction\n",
    "def operation(a, b, op=\"addition\", message=\"\"):\n",
    "    print(message)\n",
    "    if op == \"addition\":\n",
    "        return a + b\n",
    "    if op == \"multiplication\":\n",
    "        return a * b\n"
   ]
  },
  {
   "cell_type": "code",
   "execution_count": 143,
   "id": "52f94706",
   "metadata": {},
   "outputs": [
    {
     "name": "stdout",
     "output_type": "stream",
     "text": [
      "\n"
     ]
    },
    {
     "data": {
      "text/plain": [
       "6"
      ]
     },
     "execution_count": 143,
     "metadata": {},
     "output_type": "execute_result"
    }
   ],
   "source": [
    "operation(4, 2)"
   ]
  },
  {
   "cell_type": "code",
   "execution_count": 138,
   "id": "afc60297",
   "metadata": {},
   "outputs": [
    {
     "data": {
      "text/plain": [
       "8"
      ]
     },
     "execution_count": 138,
     "metadata": {},
     "output_type": "execute_result"
    }
   ],
   "source": [
    "operation(4, 2, \"multiplication\")"
   ]
  },
  {
   "cell_type": "code",
   "execution_count": 139,
   "id": "ddcb460c",
   "metadata": {},
   "outputs": [
    {
     "data": {
      "text/plain": [
       "6"
      ]
     },
     "execution_count": 139,
     "metadata": {},
     "output_type": "execute_result"
    }
   ],
   "source": [
    "operation(4, 2, \"addition\")"
   ]
  },
  {
   "cell_type": "code",
   "execution_count": 140,
   "id": "27b20f27",
   "metadata": {},
   "outputs": [
    {
     "name": "stdout",
     "output_type": "stream",
     "text": [
      "None\n"
     ]
    }
   ],
   "source": [
    "print(operation(4, 2, \"division\"))"
   ]
  },
  {
   "cell_type": "code",
   "execution_count": 141,
   "id": "886a38f5",
   "metadata": {},
   "outputs": [
    {
     "data": {
      "text/plain": [
       "8"
      ]
     },
     "execution_count": 141,
     "metadata": {},
     "output_type": "execute_result"
    }
   ],
   "source": [
    "operation(4, 2, op=\"multiplication\")"
   ]
  },
  {
   "cell_type": "code",
   "execution_count": 144,
   "id": "dae1648a",
   "metadata": {},
   "outputs": [
    {
     "name": "stdout",
     "output_type": "stream",
     "text": [
      "Bonjour\n"
     ]
    },
    {
     "data": {
      "text/plain": [
       "6"
      ]
     },
     "execution_count": 144,
     "metadata": {},
     "output_type": "execute_result"
    }
   ],
   "source": [
    "operation(4, 2, message=\"Bonjour\")"
   ]
  },
  {
   "cell_type": "code",
   "execution_count": 147,
   "id": "5d6b0594",
   "metadata": {},
   "outputs": [
    {
     "name": "stdout",
     "output_type": "stream",
     "text": [
      "addition\n",
      "None\n"
     ]
    }
   ],
   "source": [
    "print(operation(4, 2, \"Bonjour\", \"addition\"))\n",
    "# Attention si on ne nomme pas les paramètres optionnels\n",
    "# Python les considère dans l'ordre de la définition"
   ]
  },
  {
   "cell_type": "code",
   "execution_count": 152,
   "id": "8e3ce3aa",
   "metadata": {},
   "outputs": [
    {
     "name": "stdout",
     "output_type": "stream",
     "text": [
      "\n",
      "6\n"
     ]
    }
   ],
   "source": [
    "print(operation(4, 2, \"addition\"))\n"
   ]
  },
  {
   "cell_type": "code",
   "execution_count": 151,
   "id": "59d25946",
   "metadata": {},
   "outputs": [
    {
     "ename": "TypeError",
     "evalue": "operation() takes from 2 to 4 positional arguments but 6 were given",
     "output_type": "error",
     "traceback": [
      "\u001b[1;31m---------------------------------------------------------------------------\u001b[0m",
      "\u001b[1;31mTypeError\u001b[0m                                 Traceback (most recent call last)",
      "Input \u001b[1;32mIn [151]\u001b[0m, in \u001b[0;36m<cell line: 1>\u001b[1;34m()\u001b[0m\n\u001b[1;32m----> 1\u001b[0m \u001b[38;5;28mprint\u001b[39m(\u001b[43moperation\u001b[49m\u001b[43m(\u001b[49m\u001b[38;5;241;43m4\u001b[39;49m\u001b[43m,\u001b[49m\u001b[43m \u001b[49m\u001b[38;5;241;43m2\u001b[39;49m\u001b[43m,\u001b[49m\u001b[43m \u001b[49m\u001b[38;5;124;43m\"\u001b[39;49m\u001b[38;5;124;43maddition\u001b[39;49m\u001b[38;5;124;43m\"\u001b[39;49m\u001b[43m,\u001b[49m\u001b[38;5;241;43m12\u001b[39;49m\u001b[43m \u001b[49m\u001b[43m,\u001b[49m\u001b[38;5;241;43m28\u001b[39;49m\u001b[43m,\u001b[49m\u001b[43m \u001b[49m\u001b[38;5;124;43m\"\u001b[39;49m\u001b[38;5;124;43mmessage\u001b[39;49m\u001b[38;5;124;43m\"\u001b[39;49m\u001b[43m)\u001b[49m)\n",
      "\u001b[1;31mTypeError\u001b[0m: operation() takes from 2 to 4 positional arguments but 6 were given"
     ]
    }
   ],
   "source": [
    "print(operation(4, 2, \"addition\",12 ,28, \"message\"))\n"
   ]
  },
  {
   "cell_type": "code",
   "execution_count": 153,
   "id": "47d79a2c",
   "metadata": {},
   "outputs": [],
   "source": [
    "def dire_bonjour(prenom, nom, age=15, ville=\"Paris\"):\n",
    "    print(f\"Je m'appelle {prenom} {nom}. J'ai {age + 1} ans et j'habite {ville}\")\n",
    "    return \"Bonjour\"\n"
   ]
  },
  {
   "cell_type": "code",
   "execution_count": 159,
   "id": "bf7d82b9",
   "metadata": {},
   "outputs": [],
   "source": [
    "def dire_bonjour(prenom, nom, age=15, ville=\"Paris\"):\n",
    "    return f\"Je m'appelle {prenom} {nom}. J'ai {age} ans et j'habite {ville}\"\n",
    "    return \"Bonjour\"\n"
   ]
  },
  {
   "cell_type": "code",
   "execution_count": 156,
   "id": "89104a83",
   "metadata": {
    "scrolled": true
   },
   "outputs": [
    {
     "name": "stdout",
     "output_type": "stream",
     "text": [
      "Je m'appelle Alan Turing. j'ai 15 ans et j'habite Paris\n",
      "Bonjour\n",
      "fin\n"
     ]
    }
   ],
   "source": [
    "print(dire_bonjour(\"Alan\", \"Turing\"))\n",
    "print(\"fin\")"
   ]
  },
  {
   "cell_type": "code",
   "execution_count": 160,
   "id": "c523dd81",
   "metadata": {},
   "outputs": [
    {
     "name": "stdout",
     "output_type": "stream",
     "text": [
      "Je m'appelle Alan Turing. J'ai Paris ans et j'habite Paris\n",
      "fin\n"
     ]
    }
   ],
   "source": [
    "print(dire_bonjour(\"Alan\", \"Turing\", \"Paris\"))\n",
    "print(\"fin\")"
   ]
  },
  {
   "cell_type": "code",
   "execution_count": null,
   "id": "90877fb0",
   "metadata": {},
   "outputs": [],
   "source": [
    "print(dire_bonjour(\"Alan\", \"Turing\", ville=\"Colmart\"))\n",
    "print(\"fin\")"
   ]
  },
  {
   "cell_type": "code",
   "execution_count": null,
   "id": "cd98e6b4",
   "metadata": {},
   "outputs": [],
   "source": [
    "def dire_bonjour(prenom, nom, age=15, ville=\"Paris\"):\n",
    "    if age > 18:\n",
    "        print(\"majeur\")\n",
    "        return \"ok\"\n",
    "    else:\n",
    "        print(\"mineur\")\n",
    "        return \"pas ok\"\n",
    "    \n",
    "def dire_bonjour(prenom, nom, age=15, ville=\"Paris\"):\n",
    "    if age > 18:\n",
    "        print(\"majeur\")\n",
    "        return \"ok\"\n",
    "    print(\"mineur\")\n",
    "    return \"pas ok\"\n",
    "\n",
    "def dire_bonjour(prenom, nom, age=15, ville=\"Paris\"):\n",
    "    if age > 18:\n",
    "        print(\"majeur\")\n",
    "    print(\"mineur\")\n"
   ]
  },
  {
   "cell_type": "code",
   "execution_count": 165,
   "id": "63464606",
   "metadata": {},
   "outputs": [
    {
     "name": "stdout",
     "output_type": "stream",
     "text": [
      "[0, 1, 3, 7, 9]\n"
     ]
    }
   ],
   "source": [
    "def tri_bulle(liste):\n",
    "    \"\"\"\n",
    "    Trier les éléments de la liste en comparant chaque élément avec le suivant\n",
    "    \"\"\"\n",
    "    ma_liste = liste.copy()\n",
    "#     for i, val in enumerate(ma_liste[:-1]):\n",
    "    for i in range(len(ma_liste) - 1):\n",
    "        for i in range(len(ma_liste) - 1):\n",
    "            if ma_liste[i] > ma_liste[i+1]:\n",
    "                ma_liste[i], ma_liste[i+1] = ma_liste[i+1], ma_liste[i]\n",
    "    return ma_liste\n",
    "\n",
    "une_liste = [3,9,1,7,0]\n",
    "print(tri_bulle(une_liste))"
   ]
  },
  {
   "cell_type": "code",
   "execution_count": 166,
   "id": "e9801e95",
   "metadata": {},
   "outputs": [
    {
     "name": "stdout",
     "output_type": "stream",
     "text": [
      "[3, 9, 1, 7, 0]\n"
     ]
    }
   ],
   "source": [
    "print(une_liste)"
   ]
  },
  {
   "cell_type": "code",
   "execution_count": null,
   "id": "0572545f",
   "metadata": {},
   "outputs": [],
   "source": []
  },
  {
   "cell_type": "code",
   "execution_count": null,
   "id": "b1f423be",
   "metadata": {},
   "outputs": [],
   "source": [
    "def puissance_de_deux(n):\n",
    "    \"\"\"\n",
    "    Retourne la liste des n premières puissance de deux\n",
    "    2 ** 0, 2 ** 1, ... , 2 ** n\n",
    "    \"\"\"\n",
    "    return\n",
    "\n"
   ]
  }
 ],
 "metadata": {
  "kernelspec": {
   "display_name": "Python 3 (ipykernel)",
   "language": "python",
   "name": "python3"
  },
  "language_info": {
   "codemirror_mode": {
    "name": "ipython",
    "version": 3
   },
   "file_extension": ".py",
   "mimetype": "text/x-python",
   "name": "python",
   "nbconvert_exporter": "python",
   "pygments_lexer": "ipython3",
   "version": "3.9.12"
  }
 },
 "nbformat": 4,
 "nbformat_minor": 5
}
