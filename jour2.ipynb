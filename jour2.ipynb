{
 "cells": [
  {
   "cell_type": "markdown",
   "id": "975474a1",
   "metadata": {},
   "source": [
    "## Rappel d'hier"
   ]
  },
  {
   "cell_type": "markdown",
   "id": "31e3c47a",
   "metadata": {},
   "source": [
    "#### Les listes"
   ]
  },
  {
   "cell_type": "code",
   "execution_count": 10,
   "id": "c637b920",
   "metadata": {},
   "outputs": [
    {
     "name": "stdout",
     "output_type": "stream",
     "text": [
      "12\n",
      "Bonjour\n",
      "2.0\n",
      "14.0\n",
      "[True, 12]\n",
      "[True, 12]\n",
      "[12, 'Bonjour', [2, 5], 2.0]\n",
      "[True, 12, 'Bonjour', [2, 5]]\n",
      "[True, 'Bonjour', 2.0]\n",
      "[True, 'Bonjour']\n",
      "[2.0, [2, 5], 'Bonjour', 12, True]\n"
     ]
    }
   ],
   "source": [
    "ma_liste = [True, 12, \"Bonjour\", [2, 5], 2.0]\n",
    "\n",
    "print(ma_liste[1])\n",
    "print(ma_liste[2])\n",
    "print(ma_liste[-1])\n",
    "print(ma_liste[1] + ma_liste[-1])\n",
    "\n",
    "print(ma_liste[0:2])\n",
    "print(ma_liste[:2])\n",
    "print(ma_liste[1:])\n",
    "print(ma_liste[:-1])\n",
    "print(ma_liste[::2])\n",
    "print(ma_liste[0:4:2])\n",
    "print(ma_liste[::-1])\n"
   ]
  },
  {
   "cell_type": "code",
   "execution_count": null,
   "id": "0efc8a53",
   "metadata": {},
   "outputs": [],
   "source": [
    "ma_liste = [12, 5, 8, 9, 10]\n",
    "sorted(ma_liste)\n",
    "print(ma_liste) # Pas de modification de ma_liste\n"
   ]
  },
  {
   "cell_type": "code",
   "execution_count": 14,
   "id": "c6f2a551",
   "metadata": {},
   "outputs": [
    {
     "name": "stdout",
     "output_type": "stream",
     "text": [
      "[12, 5, 8, 9, 10]\n",
      "[5, 8, 9, 10, 12]\n"
     ]
    }
   ],
   "source": [
    "ma_liste = [12, 5, 8, 9, 10]\n",
    "a = sorted(ma_liste)\n",
    "print(ma_liste)\n",
    "print(a)"
   ]
  },
  {
   "cell_type": "code",
   "execution_count": 15,
   "id": "a740be75",
   "metadata": {},
   "outputs": [
    {
     "name": "stdout",
     "output_type": "stream",
     "text": [
      "[5, 8, 9, 10, 12]\n"
     ]
    }
   ],
   "source": [
    "print(sorted(ma_liste))"
   ]
  },
  {
   "cell_type": "code",
   "execution_count": 35,
   "id": "d5248f0a",
   "metadata": {},
   "outputs": [
    {
     "name": "stdout",
     "output_type": "stream",
     "text": [
      "0\n",
      "1\n",
      "2\n",
      "3\n",
      "4\n",
      "5\n",
      "6\n",
      "7\n",
      "8\n",
      "9\n"
     ]
    }
   ],
   "source": [
    "for i in range(10):\n",
    "    print(i)"
   ]
  },
  {
   "cell_type": "code",
   "execution_count": 65,
   "id": "1b8a3be3",
   "metadata": {},
   "outputs": [
    {
     "name": "stdout",
     "output_type": "stream",
     "text": [
      "0\n",
      "True\n",
      "1\n",
      "12\n",
      "2\n",
      "Bonjour\n",
      "3\n",
      "[2, 5]\n",
      "4\n",
      "2.0\n"
     ]
    }
   ],
   "source": [
    "ma_liste = [True, 12, \"Bonjour\", [2, 5], 2.0]\n",
    "for idx, element in enumerate(ma_liste):\n",
    "    print(idx)\n",
    "    print(element)"
   ]
  },
  {
   "cell_type": "code",
   "execution_count": 37,
   "id": "b117a23b",
   "metadata": {},
   "outputs": [
    {
     "name": "stdout",
     "output_type": "stream",
     "text": [
      "[2, 4]\n",
      "[4, 2]\n",
      "None\n",
      "2\n"
     ]
    }
   ],
   "source": [
    "ma_liste_func = [sorted, print, len]\n",
    "for func in ma_liste_func:\n",
    "    print(func([4, 2]))"
   ]
  },
  {
   "cell_type": "code",
   "execution_count": 43,
   "id": "f13e8fc3",
   "metadata": {},
   "outputs": [],
   "source": [
    "ma_liste = [2, 4, 6, 7, 12]\n",
    "a, b, *c = ma_liste"
   ]
  },
  {
   "cell_type": "code",
   "execution_count": 44,
   "id": "cb96c1ba",
   "metadata": {},
   "outputs": [
    {
     "name": "stdout",
     "output_type": "stream",
     "text": [
      "2\n",
      "4\n",
      "[6, 7, 12]\n"
     ]
    }
   ],
   "source": [
    "print(a)\n",
    "print(b)\n",
    "print(c)\n"
   ]
  },
  {
   "cell_type": "code",
   "execution_count": 45,
   "id": "ec8c12fa",
   "metadata": {},
   "outputs": [],
   "source": [
    "mon_dico = {\"nom\": \"BOL\", \"prenom\": \"Mick\", \"age\": 35}\n",
    "\n",
    "autre_dico = {\n",
    "    **mon_dico,\n",
    "    \"spe\": \"Python\"\n",
    "}"
   ]
  },
  {
   "cell_type": "code",
   "execution_count": 46,
   "id": "7d144c42",
   "metadata": {},
   "outputs": [
    {
     "data": {
      "text/plain": [
       "{'nom': 'BOL', 'prenom': 'Mick', 'age': 35, 'spe': 'Python'}"
      ]
     },
     "execution_count": 46,
     "metadata": {},
     "output_type": "execute_result"
    }
   ],
   "source": [
    "autre_dico"
   ]
  },
  {
   "cell_type": "markdown",
   "id": "dfccc55d",
   "metadata": {},
   "source": [
    "#### Les dictionnaires\n"
   ]
  },
  {
   "cell_type": "code",
   "execution_count": 62,
   "id": "46bb0df4",
   "metadata": {},
   "outputs": [],
   "source": [
    "mon_dictionnaire = {\n",
    "    \"cle\": 15,\n",
    "    True: \"Bonjour\" \n",
    "}\n"
   ]
  },
  {
   "cell_type": "code",
   "execution_count": 63,
   "id": "b06f9af8",
   "metadata": {},
   "outputs": [],
   "source": [
    "mon_dico = {\"nom\": \"BOL\", \"prenom\": \"Mick\", \"age\": 35}\n",
    "\n",
    "autre_dico = {\n",
    "    **mon_dico,\n",
    "    \"spe\": \"Python\"\n",
    "}"
   ]
  },
  {
   "cell_type": "code",
   "execution_count": 49,
   "id": "ee947acf",
   "metadata": {},
   "outputs": [
    {
     "name": "stdout",
     "output_type": "stream",
     "text": [
      "1\n",
      "0\n",
      "-4354716469132850917\n"
     ]
    }
   ],
   "source": [
    "print(hash(True))\n",
    "print(hash(False))\n",
    "print(hash(\"Bonjour\"))"
   ]
  },
  {
   "cell_type": "code",
   "execution_count": 50,
   "id": "0cdf5cc9",
   "metadata": {},
   "outputs": [
    {
     "name": "stdout",
     "output_type": "stream",
     "text": [
      "-4354716469132850917\n"
     ]
    }
   ],
   "source": [
    "print(hash(\"Bonjour\"))"
   ]
  },
  {
   "cell_type": "code",
   "execution_count": 51,
   "id": "01bb3810",
   "metadata": {},
   "outputs": [
    {
     "name": "stdout",
     "output_type": "stream",
     "text": [
      "-1987876321187463247\n"
     ]
    }
   ],
   "source": [
    "print(hash(\"bonjour\"))"
   ]
  },
  {
   "cell_type": "code",
   "execution_count": 54,
   "id": "5ddad371",
   "metadata": {},
   "outputs": [
    {
     "ename": "TypeError",
     "evalue": "unhashable type: 'list'",
     "output_type": "error",
     "traceback": [
      "\u001b[1;31m---------------------------------------------------------------------------\u001b[0m",
      "\u001b[1;31mTypeError\u001b[0m                                 Traceback (most recent call last)",
      "Input \u001b[1;32mIn [54]\u001b[0m, in \u001b[0;36m<cell line: 1>\u001b[1;34m()\u001b[0m\n\u001b[1;32m----> 1\u001b[0m \u001b[38;5;28mprint\u001b[39m(\u001b[38;5;28;43mhash\u001b[39;49m\u001b[43m(\u001b[49m\u001b[43m[\u001b[49m\u001b[38;5;241;43m1\u001b[39;49m\u001b[43m,\u001b[49m\u001b[38;5;241;43m2\u001b[39;49m\u001b[43m]\u001b[49m\u001b[43m)\u001b[49m)\n",
      "\u001b[1;31mTypeError\u001b[0m: unhashable type: 'list'"
     ]
    }
   ],
   "source": [
    "print(hash([1,2]))"
   ]
  },
  {
   "cell_type": "code",
   "execution_count": 55,
   "id": "32f44b06",
   "metadata": {},
   "outputs": [
    {
     "name": "stdout",
     "output_type": "stream",
     "text": [
      "-3550055125485641917\n"
     ]
    }
   ],
   "source": [
    "print(hash((1,2)))"
   ]
  },
  {
   "cell_type": "code",
   "execution_count": 58,
   "id": "0255b5fc",
   "metadata": {},
   "outputs": [
    {
     "ename": "TypeError",
     "evalue": "'tuple' object does not support item assignment",
     "output_type": "error",
     "traceback": [
      "\u001b[1;31m---------------------------------------------------------------------------\u001b[0m",
      "\u001b[1;31mTypeError\u001b[0m                                 Traceback (most recent call last)",
      "Input \u001b[1;32mIn [58]\u001b[0m, in \u001b[0;36m<cell line: 2>\u001b[1;34m()\u001b[0m\n\u001b[0;32m      1\u001b[0m mon_tuple \u001b[38;5;241m=\u001b[39m (\u001b[38;5;241m4\u001b[39m, \u001b[38;5;28;01mTrue\u001b[39;00m, \u001b[38;5;241m12\u001b[39m)\n\u001b[1;32m----> 2\u001b[0m mon_tuple[\u001b[38;5;241m0\u001b[39m] \u001b[38;5;241m=\u001b[39m \u001b[38;5;241m6\u001b[39m\n",
      "\u001b[1;31mTypeError\u001b[0m: 'tuple' object does not support item assignment"
     ]
    }
   ],
   "source": [
    "mon_tuple = (4, True, 12)\n",
    "mon_tuple[0] = 6"
   ]
  },
  {
   "cell_type": "code",
   "execution_count": 59,
   "id": "a4a4bb22",
   "metadata": {},
   "outputs": [],
   "source": [
    "ma_liste = [4, True, 12]\n",
    "ma_liste[0] = 6"
   ]
  },
  {
   "cell_type": "code",
   "execution_count": 61,
   "id": "e585c38a",
   "metadata": {},
   "outputs": [
    {
     "name": "stdout",
     "output_type": "stream",
     "text": [
      "(4, True, [12, 5, 6])\n"
     ]
    }
   ],
   "source": [
    "mon_tuple = (4, True, [12, 5])\n",
    "mon_tuple[-1].append(6)\n",
    "print(mon_tuple)"
   ]
  },
  {
   "cell_type": "code",
   "execution_count": 68,
   "id": "568bdf44",
   "metadata": {},
   "outputs": [
    {
     "ename": "TypeError",
     "evalue": "unhashable type: 'dict'",
     "output_type": "error",
     "traceback": [
      "\u001b[1;31m---------------------------------------------------------------------------\u001b[0m",
      "\u001b[1;31mTypeError\u001b[0m                                 Traceback (most recent call last)",
      "Input \u001b[1;32mIn [68]\u001b[0m, in \u001b[0;36m<cell line: 1>\u001b[1;34m()\u001b[0m\n\u001b[1;32m----> 1\u001b[0m mon_set \u001b[38;5;241m=\u001b[39m {\u001b[38;5;241m2\u001b[39m, \u001b[38;5;28;01mTrue\u001b[39;00m, \u001b[38;5;124m\"\u001b[39m\u001b[38;5;124mbonjour\u001b[39m\u001b[38;5;124m\"\u001b[39m, \u001b[38;5;241m2\u001b[39m, {\u001b[38;5;124m\"\u001b[39m\u001b[38;5;124mnom\u001b[39m\u001b[38;5;124m\"\u001b[39m: \u001b[38;5;124m\"\u001b[39m\u001b[38;5;124mBol\u001b[39m\u001b[38;5;124m\"\u001b[39m}}\n\u001b[0;32m      2\u001b[0m mon_set\n",
      "\u001b[1;31mTypeError\u001b[0m: unhashable type: 'dict'"
     ]
    }
   ],
   "source": [
    "mon_set = {2, True, \"bonjour\", 2}\n",
    "mon_set"
   ]
  },
  {
   "cell_type": "code",
   "execution_count": 67,
   "id": "0bef3f41",
   "metadata": {},
   "outputs": [
    {
     "data": {
      "text/plain": [
       "True"
      ]
     },
     "execution_count": 67,
     "metadata": {},
     "output_type": "execute_result"
    }
   ],
   "source": [
    "2 in mon_set"
   ]
  },
  {
   "cell_type": "code",
   "execution_count": 71,
   "id": "19cf3cc7",
   "metadata": {},
   "outputs": [
    {
     "name": "stdout",
     "output_type": "stream",
     "text": [
      "{'prenom', 'age', 'nom'}\n",
      "{'Mick', 35, 'BOL'}\n"
     ]
    }
   ],
   "source": [
    "print(set(mon_dico))\n",
    "print(set(mon_dico.values()))\n"
   ]
  },
  {
   "cell_type": "code",
   "execution_count": 72,
   "id": "82446663",
   "metadata": {},
   "outputs": [
    {
     "data": {
      "text/plain": [
       "array(['S', 'C', 'Q', nan], dtype=object)"
      ]
     },
     "execution_count": 72,
     "metadata": {},
     "output_type": "execute_result"
    }
   ],
   "source": [
    "import pandas as pd\n",
    "\n",
    "df = pd.read_csv(\"titanic.csv\")\n",
    "df.Embarked.unique()"
   ]
  },
  {
   "cell_type": "code",
   "execution_count": 73,
   "id": "1b94b56b",
   "metadata": {},
   "outputs": [
    {
     "data": {
      "text/plain": [
       "{'nom': 'BOL', 'prenom': 'Mick', 'age': 35}"
      ]
     },
     "execution_count": 73,
     "metadata": {},
     "output_type": "execute_result"
    }
   ],
   "source": [
    "mon_dico"
   ]
  },
  {
   "cell_type": "code",
   "execution_count": 74,
   "id": "ce37a732",
   "metadata": {},
   "outputs": [
    {
     "name": "stdout",
     "output_type": "stream",
     "text": [
      "nom\n",
      "prenom\n",
      "age\n"
     ]
    }
   ],
   "source": [
    "for key in mon_dico:\n",
    "    print(key)"
   ]
  },
  {
   "cell_type": "code",
   "execution_count": 75,
   "id": "0c4a8e51",
   "metadata": {},
   "outputs": [
    {
     "name": "stdout",
     "output_type": "stream",
     "text": [
      "nom\n",
      "BOL\n",
      "prenom\n",
      "Mick\n",
      "age\n",
      "35\n"
     ]
    }
   ],
   "source": [
    "for key, value in mon_dico.items():\n",
    "    print(key)\n",
    "    print(value)"
   ]
  },
  {
   "cell_type": "code",
   "execution_count": 76,
   "id": "8b47d8ad",
   "metadata": {},
   "outputs": [],
   "source": [
    "mon_dico[\"job\"] = \"informatique\""
   ]
  },
  {
   "cell_type": "code",
   "execution_count": 77,
   "id": "1b9b8085",
   "metadata": {},
   "outputs": [
    {
     "data": {
      "text/plain": [
       "{'nom': 'BOL', 'prenom': 'Mick', 'age': 35, 'job': 'informatique'}"
      ]
     },
     "execution_count": 77,
     "metadata": {},
     "output_type": "execute_result"
    }
   ],
   "source": [
    "mon_dico"
   ]
  },
  {
   "cell_type": "markdown",
   "id": "ef49b509",
   "metadata": {},
   "source": [
    "## Functions"
   ]
  },
  {
   "cell_type": "code",
   "execution_count": 81,
   "id": "efc62c3b",
   "metadata": {},
   "outputs": [],
   "source": [
    "# Création de la fonction\n",
    "def dire_bonjour():\n",
    "    \"\"\"\n",
    "    Une fonction qui dit bonjour\n",
    "    \"\"\"\n",
    "    print(\"Hello\")\n",
    "    \n"
   ]
  },
  {
   "cell_type": "code",
   "execution_count": 86,
   "id": "3b453077",
   "metadata": {},
   "outputs": [
    {
     "name": "stdout",
     "output_type": "stream",
     "text": [
      "Hello\n",
      "Hello\n"
     ]
    },
    {
     "data": {
      "text/plain": [
       "function"
      ]
     },
     "execution_count": 86,
     "metadata": {},
     "output_type": "execute_result"
    }
   ],
   "source": [
    "dire_bonjour()\n",
    "dire_bonjour()\n",
    "dire_bonjour # IMPORTANT ici on n'appelle pas la fonction car il n'y a pas de parenthèses\n"
   ]
  },
  {
   "cell_type": "code",
   "execution_count": 89,
   "id": "13a93608",
   "metadata": {},
   "outputs": [
    {
     "name": "stdout",
     "output_type": "stream",
     "text": [
      "Help on function dire_bonjour in module __main__:\n",
      "\n",
      "dire_bonjour()\n",
      "    Une fonction qui dit bonjour\n",
      "\n"
     ]
    }
   ],
   "source": [
    "help(dire_bonjour)"
   ]
  },
  {
   "cell_type": "code",
   "execution_count": 90,
   "id": "ee09ce16",
   "metadata": {},
   "outputs": [
    {
     "data": {
      "text/plain": [
       "function"
      ]
     },
     "execution_count": 90,
     "metadata": {},
     "output_type": "execute_result"
    }
   ],
   "source": [
    "type(dire_bonjour)"
   ]
  },
  {
   "cell_type": "code",
   "execution_count": 91,
   "id": "243765b4",
   "metadata": {},
   "outputs": [
    {
     "name": "stdout",
     "output_type": "stream",
     "text": [
      "Hello\n"
     ]
    },
    {
     "data": {
      "text/plain": [
       "NoneType"
      ]
     },
     "execution_count": 91,
     "metadata": {},
     "output_type": "execute_result"
    }
   ],
   "source": [
    "type(dire_bonjour())"
   ]
  },
  {
   "cell_type": "code",
   "execution_count": 92,
   "id": "728bb6a5",
   "metadata": {},
   "outputs": [],
   "source": [
    "# Création de la fonction\n",
    "def dire_bonjour():\n",
    "    \"\"\"\n",
    "    Une fonction qui dit bonjour\n",
    "    \"\"\"\n",
    "    print(\"Hello\")\n",
    "    return 4\n",
    "    \n"
   ]
  },
  {
   "cell_type": "code",
   "execution_count": 95,
   "id": "11b78190",
   "metadata": {},
   "outputs": [
    {
     "name": "stdout",
     "output_type": "stream",
     "text": [
      "Hello\n",
      "fin\n",
      "4\n"
     ]
    }
   ],
   "source": [
    "dire_bonjour()\n",
    "\n",
    "print(\"fin\")\n",
    "# print(a)"
   ]
  },
  {
   "cell_type": "code",
   "execution_count": 96,
   "id": "ac82d650",
   "metadata": {},
   "outputs": [
    {
     "name": "stdout",
     "output_type": "stream",
     "text": [
      "Hello\n"
     ]
    },
    {
     "data": {
      "text/plain": [
       "10"
      ]
     },
     "execution_count": 96,
     "metadata": {},
     "output_type": "execute_result"
    }
   ],
   "source": [
    "dire_bonjour() + 6"
   ]
  },
  {
   "cell_type": "code",
   "execution_count": 121,
   "id": "b04ba387",
   "metadata": {},
   "outputs": [],
   "source": [
    "# Création de la fonction\n",
    "def addition(a, b):\n",
    "#     assert type(a) == int, \"Parameter 'a' should be an int\"\n",
    "    print(\"Je fais une addition\")\n",
    "    print(a)\n",
    "    y = a + b\n",
    "    return y\n",
    "    \n"
   ]
  },
  {
   "cell_type": "code",
   "execution_count": 122,
   "id": "c116af7d",
   "metadata": {},
   "outputs": [
    {
     "name": "stdout",
     "output_type": "stream",
     "text": [
      "Je fais une addition\n",
      "4\n"
     ]
    },
    {
     "data": {
      "text/plain": [
       "10"
      ]
     },
     "execution_count": 122,
     "metadata": {},
     "output_type": "execute_result"
    }
   ],
   "source": [
    "addition(4, 6)"
   ]
  },
  {
   "cell_type": "code",
   "execution_count": 123,
   "id": "de1430e2",
   "metadata": {},
   "outputs": [
    {
     "name": "stdout",
     "output_type": "stream",
     "text": [
      "Je fais une addition\n",
      "12\n"
     ]
    },
    {
     "data": {
      "text/plain": [
       "14"
      ]
     },
     "execution_count": 123,
     "metadata": {},
     "output_type": "execute_result"
    }
   ],
   "source": [
    "addition(12,2)"
   ]
  },
  {
   "cell_type": "code",
   "execution_count": 124,
   "id": "b380998f",
   "metadata": {},
   "outputs": [
    {
     "name": "stdout",
     "output_type": "stream",
     "text": [
      "Je fais une addition\n",
      "12\n"
     ]
    },
    {
     "data": {
      "text/plain": [
       "28"
      ]
     },
     "execution_count": 124,
     "metadata": {},
     "output_type": "execute_result"
    }
   ],
   "source": [
    "x = 12\n",
    "y = 16\n",
    "addition(x, y)"
   ]
  },
  {
   "cell_type": "code",
   "execution_count": 125,
   "id": "b60c097e",
   "metadata": {},
   "outputs": [
    {
     "name": "stdout",
     "output_type": "stream",
     "text": [
      "Je fais une addition\n",
      "(16, 4)\n"
     ]
    },
    {
     "data": {
      "text/plain": [
       "(16, 4, 12, 2)"
      ]
     },
     "execution_count": 125,
     "metadata": {},
     "output_type": "execute_result"
    }
   ],
   "source": [
    "a = (12, 2)\n",
    "b = (16, 4)\n",
    "addition(b, a) # Attention, ici b est transmis dans le parametre a de la function"
   ]
  },
  {
   "cell_type": "code",
   "execution_count": 128,
   "id": "2fc410de",
   "metadata": {},
   "outputs": [
    {
     "name": "stdout",
     "output_type": "stream",
     "text": [
      "Je fais une addition\n",
      "gz,jghdf\n"
     ]
    },
    {
     "ename": "TypeError",
     "evalue": "can only concatenate str (not \"tuple\") to str",
     "output_type": "error",
     "traceback": [
      "\u001b[1;31m---------------------------------------------------------------------------\u001b[0m",
      "\u001b[1;31mTypeError\u001b[0m                                 Traceback (most recent call last)",
      "Input \u001b[1;32mIn [128]\u001b[0m, in \u001b[0;36m<cell line: 3>\u001b[1;34m()\u001b[0m\n\u001b[0;32m      1\u001b[0m a \u001b[38;5;241m=\u001b[39m (\u001b[38;5;241m12\u001b[39m, \u001b[38;5;241m2\u001b[39m)\n\u001b[0;32m      2\u001b[0m b \u001b[38;5;241m=\u001b[39m \u001b[38;5;124m\"\u001b[39m\u001b[38;5;124mgz,jghdf\u001b[39m\u001b[38;5;124m\"\u001b[39m\n\u001b[1;32m----> 3\u001b[0m \u001b[43maddition\u001b[49m\u001b[43m(\u001b[49m\u001b[43mb\u001b[49m\u001b[43m,\u001b[49m\u001b[43ma\u001b[49m\u001b[43m)\u001b[49m\n",
      "Input \u001b[1;32mIn [121]\u001b[0m, in \u001b[0;36maddition\u001b[1;34m(a, b)\u001b[0m\n\u001b[0;32m      4\u001b[0m \u001b[38;5;28mprint\u001b[39m(\u001b[38;5;124m\"\u001b[39m\u001b[38;5;124mJe fais une addition\u001b[39m\u001b[38;5;124m\"\u001b[39m)\n\u001b[0;32m      5\u001b[0m \u001b[38;5;28mprint\u001b[39m(a)\n\u001b[1;32m----> 6\u001b[0m y \u001b[38;5;241m=\u001b[39m \u001b[43ma\u001b[49m\u001b[43m \u001b[49m\u001b[38;5;241;43m+\u001b[39;49m\u001b[43m \u001b[49m\u001b[43mb\u001b[49m\n\u001b[0;32m      7\u001b[0m \u001b[38;5;28;01mreturn\u001b[39;00m y\n",
      "\u001b[1;31mTypeError\u001b[0m: can only concatenate str (not \"tuple\") to str"
     ]
    }
   ],
   "source": [
    "a = (12, 2)\n",
    "b = \"gz,jghdf\"\n",
    "addition(b,a)"
   ]
  },
  {
   "cell_type": "code",
   "execution_count": 149,
   "id": "7923792c",
   "metadata": {},
   "outputs": [],
   "source": [
    "# Création de la fonction\n",
    "def operation(a, b, op=\"addition\", message=\"\"):\n",
    "    print(message)\n",
    "    if op == \"addition\":\n",
    "        return a + b\n",
    "    if op == \"multiplication\":\n",
    "        return a * b\n"
   ]
  },
  {
   "cell_type": "code",
   "execution_count": 143,
   "id": "1962ed4a",
   "metadata": {},
   "outputs": [
    {
     "name": "stdout",
     "output_type": "stream",
     "text": [
      "\n"
     ]
    },
    {
     "data": {
      "text/plain": [
       "6"
      ]
     },
     "execution_count": 143,
     "metadata": {},
     "output_type": "execute_result"
    }
   ],
   "source": [
    "operation(4, 2)"
   ]
  },
  {
   "cell_type": "code",
   "execution_count": 138,
   "id": "d1aa0fc9",
   "metadata": {},
   "outputs": [
    {
     "data": {
      "text/plain": [
       "8"
      ]
     },
     "execution_count": 138,
     "metadata": {},
     "output_type": "execute_result"
    }
   ],
   "source": [
    "operation(4, 2, \"multiplication\")"
   ]
  },
  {
   "cell_type": "code",
   "execution_count": 139,
   "id": "b1e9f219",
   "metadata": {},
   "outputs": [
    {
     "data": {
      "text/plain": [
       "6"
      ]
     },
     "execution_count": 139,
     "metadata": {},
     "output_type": "execute_result"
    }
   ],
   "source": [
    "operation(4, 2, \"addition\")"
   ]
  },
  {
   "cell_type": "code",
   "execution_count": 140,
   "id": "d8a5934f",
   "metadata": {},
   "outputs": [
    {
     "name": "stdout",
     "output_type": "stream",
     "text": [
      "None\n"
     ]
    }
   ],
   "source": [
    "print(operation(4, 2, \"division\"))"
   ]
  },
  {
   "cell_type": "code",
   "execution_count": 141,
   "id": "b5282d43",
   "metadata": {},
   "outputs": [
    {
     "data": {
      "text/plain": [
       "8"
      ]
     },
     "execution_count": 141,
     "metadata": {},
     "output_type": "execute_result"
    }
   ],
   "source": [
    "operation(4, 2, op=\"multiplication\")"
   ]
  },
  {
   "cell_type": "code",
   "execution_count": 144,
   "id": "43d6dc45",
   "metadata": {},
   "outputs": [
    {
     "name": "stdout",
     "output_type": "stream",
     "text": [
      "Bonjour\n"
     ]
    },
    {
     "data": {
      "text/plain": [
       "6"
      ]
     },
     "execution_count": 144,
     "metadata": {},
     "output_type": "execute_result"
    }
   ],
   "source": [
    "operation(4, 2, message=\"Bonjour\")"
   ]
  },
  {
   "cell_type": "code",
   "execution_count": 147,
   "id": "b711f501",
   "metadata": {},
   "outputs": [
    {
     "name": "stdout",
     "output_type": "stream",
     "text": [
      "addition\n",
      "None\n"
     ]
    }
   ],
   "source": [
    "print(operation(4, 2, \"Bonjour\", \"addition\"))\n",
    "# Attention si on ne nomme pas les paramètres optionnels\n",
    "# Python les considère dans l'ordre de la définition"
   ]
  },
  {
   "cell_type": "code",
   "execution_count": 152,
   "id": "a48e8021",
   "metadata": {},
   "outputs": [
    {
     "name": "stdout",
     "output_type": "stream",
     "text": [
      "\n",
      "6\n"
     ]
    }
   ],
   "source": [
    "print(operation(4, 2, \"addition\"))\n"
   ]
  },
  {
   "cell_type": "code",
   "execution_count": 151,
   "id": "fa8f8013",
   "metadata": {},
   "outputs": [
    {
     "ename": "TypeError",
     "evalue": "operation() takes from 2 to 4 positional arguments but 6 were given",
     "output_type": "error",
     "traceback": [
      "\u001b[1;31m---------------------------------------------------------------------------\u001b[0m",
      "\u001b[1;31mTypeError\u001b[0m                                 Traceback (most recent call last)",
      "Input \u001b[1;32mIn [151]\u001b[0m, in \u001b[0;36m<cell line: 1>\u001b[1;34m()\u001b[0m\n\u001b[1;32m----> 1\u001b[0m \u001b[38;5;28mprint\u001b[39m(\u001b[43moperation\u001b[49m\u001b[43m(\u001b[49m\u001b[38;5;241;43m4\u001b[39;49m\u001b[43m,\u001b[49m\u001b[43m \u001b[49m\u001b[38;5;241;43m2\u001b[39;49m\u001b[43m,\u001b[49m\u001b[43m \u001b[49m\u001b[38;5;124;43m\"\u001b[39;49m\u001b[38;5;124;43maddition\u001b[39;49m\u001b[38;5;124;43m\"\u001b[39;49m\u001b[43m,\u001b[49m\u001b[38;5;241;43m12\u001b[39;49m\u001b[43m \u001b[49m\u001b[43m,\u001b[49m\u001b[38;5;241;43m28\u001b[39;49m\u001b[43m,\u001b[49m\u001b[43m \u001b[49m\u001b[38;5;124;43m\"\u001b[39;49m\u001b[38;5;124;43mmessage\u001b[39;49m\u001b[38;5;124;43m\"\u001b[39;49m\u001b[43m)\u001b[49m)\n",
      "\u001b[1;31mTypeError\u001b[0m: operation() takes from 2 to 4 positional arguments but 6 were given"
     ]
    }
   ],
   "source": [
    "print(operation(4, 2, \"addition\",12 ,28, \"message\"))\n"
   ]
  },
  {
   "cell_type": "code",
   "execution_count": 153,
   "id": "571cbc4d",
   "metadata": {},
   "outputs": [],
   "source": [
    "def dire_bonjour(prenom, nom, age=15, ville=\"Paris\"):\n",
    "    print(f\"Je m'appelle {prenom} {nom}. J'ai {age + 1} ans et j'habite {ville}\")\n",
    "    return \"Bonjour\"\n"
   ]
  },
  {
   "cell_type": "code",
   "execution_count": 159,
   "id": "bd83a4f6",
   "metadata": {},
   "outputs": [],
   "source": [
    "def dire_bonjour(prenom, nom, age=15, ville=\"Paris\"):\n",
    "    return f\"Je m'appelle {prenom} {nom}. J'ai {age} ans et j'habite {ville}\"\n",
    "    return \"Bonjour\"\n"
   ]
  },
  {
   "cell_type": "code",
   "execution_count": 156,
   "id": "36156b19",
   "metadata": {
    "scrolled": true
   },
   "outputs": [
    {
     "name": "stdout",
     "output_type": "stream",
     "text": [
      "Je m'appelle Alan Turing. j'ai 15 ans et j'habite Paris\n",
      "Bonjour\n",
      "fin\n"
     ]
    }
   ],
   "source": [
    "print(dire_bonjour(\"Alan\", \"Turing\"))\n",
    "print(\"fin\")"
   ]
  },
  {
   "cell_type": "code",
   "execution_count": 160,
   "id": "d74e9798",
   "metadata": {},
   "outputs": [
    {
     "name": "stdout",
     "output_type": "stream",
     "text": [
      "Je m'appelle Alan Turing. J'ai Paris ans et j'habite Paris\n",
      "fin\n"
     ]
    }
   ],
   "source": [
    "print(dire_bonjour(\"Alan\", \"Turing\", \"Paris\"))\n",
    "print(\"fin\")"
   ]
  },
  {
   "cell_type": "code",
   "execution_count": null,
   "id": "5d8e0e00",
   "metadata": {},
   "outputs": [],
   "source": [
    "print(dire_bonjour(\"Alan\", \"Turing\", ville=\"Colmart\"))\n",
    "print(\"fin\")"
   ]
  },
  {
   "cell_type": "code",
   "execution_count": null,
   "id": "05be1d8d",
   "metadata": {},
   "outputs": [],
   "source": [
    "def dire_bonjour(prenom, nom, age=15, ville=\"Paris\"):\n",
    "    if age > 18:\n",
    "        print(\"majeur\")\n",
    "        return \"ok\"\n",
    "    else:\n",
    "        print(\"mineur\")\n",
    "        return \"pas ok\"\n",
    "    \n",
    "def dire_bonjour(prenom, nom, age=15, ville=\"Paris\"):\n",
    "    if age > 18:\n",
    "        print(\"majeur\")\n",
    "        return \"ok\"\n",
    "    print(\"mineur\")\n",
    "    return \"pas ok\"\n",
    "\n",
    "def dire_bonjour(prenom, nom, age=15, ville=\"Paris\"):\n",
    "    if age > 18:\n",
    "        print(\"majeur\")\n",
    "    print(\"mineur\")\n"
   ]
  },
  {
   "cell_type": "code",
   "execution_count": 165,
   "id": "821a5a2e",
   "metadata": {},
   "outputs": [
    {
     "name": "stdout",
     "output_type": "stream",
     "text": [
      "[0, 1, 3, 7, 9]\n"
     ]
    }
   ],
   "source": [
    "def tri_bulle(liste):\n",
    "    \"\"\"\n",
    "    Trier les éléments de la liste en comparant chaque élément avec le suivant\n",
    "    \"\"\"\n",
    "    ma_liste = liste.copy()\n",
    "#     for i, val in enumerate(ma_liste[:-1]):\n",
    "    for i in range(len(ma_liste) - 1):\n",
    "        for i in range(len(ma_liste) - 1):\n",
    "            if ma_liste[i] > ma_liste[i+1]:\n",
    "                ma_liste[i], ma_liste[i+1] = ma_liste[i+1], ma_liste[i]\n",
    "    return ma_liste\n",
    "\n",
    "une_liste = [3,9,1,7,0]\n",
    "print(tri_bulle(une_liste))"
   ]
  },
  {
   "cell_type": "code",
   "execution_count": 166,
   "id": "dd6566aa",
   "metadata": {},
   "outputs": [
    {
     "name": "stdout",
     "output_type": "stream",
     "text": [
      "[3, 9, 1, 7, 0]\n"
     ]
    }
   ],
   "source": [
    "print(une_liste)"
   ]
  },
  {
   "cell_type": "code",
   "execution_count": 170,
   "id": "2c387577",
   "metadata": {},
   "outputs": [
    {
     "data": {
      "text/plain": [
       "[1, 2, 4, 8]"
      ]
     },
     "execution_count": 170,
     "metadata": {},
     "output_type": "execute_result"
    }
   ],
   "source": []
  },
  {
   "cell_type": "code",
   "execution_count": null,
   "id": "b65fe838",
   "metadata": {},
   "outputs": [],
   "source": [
    "def puissance_de_deux(n):\n",
    "    \"\"\"\n",
    "    Retourne la liste des n+1 premières puissance de deux\n",
    "    2 ** 0, 2 ** 1, ... , 2 ** n\n",
    "    f(0), f(1) ..., f(i), ..., f(n)\n",
    "    \"\"\"\n",
    "    liste_resultat = []\n",
    "\n",
    "    for i in range(n+1):\n",
    "        liste_resultat.append(2 ** i)\n",
    "\n",
    "    return liste_resultat\n",
    "\n"
   ]
  },
  {
   "cell_type": "code",
   "execution_count": 174,
   "id": "9f8eead9",
   "metadata": {},
   "outputs": [
    {
     "data": {
      "text/plain": [
       "[1, 2, 4, 8, 16]"
      ]
     },
     "execution_count": 174,
     "metadata": {},
     "output_type": "execute_result"
    }
   ],
   "source": [
    "def puissance_de_deux(n):\n",
    "    \"\"\"\n",
    "    METHODE récursive\n",
    "    Retourne la liste des n+1 premières puissance de deux\n",
    "    2 ** 0, 2 ** 1, ... , 2 ** n\n",
    "    f(0), f(1) ..., f(i), ..., f(n)\n",
    "    Pour une fonction récursive il faut souvent fournir le résultat initial\n",
    "    Et déduire le résultat pour n en fonction du résultat n-1\n",
    "    \"\"\"\n",
    "    if n == 0:\n",
    "        return [1]\n",
    "    else:\n",
    "        liste_precedente = puissance_de_deux(n-1)\n",
    "        return liste_precedente + [liste_precedente[-1] * 2]\n",
    "\n",
    "puissance_de_deux(4)"
   ]
  },
  {
   "cell_type": "code",
   "execution_count": null,
   "id": "f44169df",
   "metadata": {},
   "outputs": [],
   "source": [
    "puissance_de_deux(1) # 1\n",
    "puissance_de_deux(2) # [1, 2]\n",
    "puissance_de_deux(3) # [1, 2, 4]\n"
   ]
  },
  {
   "cell_type": "code",
   "execution_count": 182,
   "id": "c1b08ae2",
   "metadata": {},
   "outputs": [
    {
     "name": "stdout",
     "output_type": "stream",
     "text": [
      "______x___\n",
      "_______x__\n",
      "________x_\n",
      "_________x\n",
      "__________x\n",
      "__________x\n",
      "_________x\n",
      "________x_\n",
      "_______x__\n",
      "______x___\n",
      "_____x____\n",
      "____x_____\n",
      "___x______\n",
      "__x_______\n",
      "_x________\n",
      "x_________\n"
     ]
    }
   ],
   "source": [
    "voiture = {\"marque\": \"Clio\", \"position\": 5}\n",
    "\n",
    "def affichage(voiture):\n",
    "    \"\"\"\n",
    "    Facile : affiche la postion de la voiture\n",
    "    Difficile : affiche un \"x\" sur une ligne en ASCII art (sur une ligne de 10)\n",
    "    i.e. voiture en position 5 : ____x_____ \n",
    "    Plus Difficile : affiche un \"x\" en ASCII art (dans un rectangle de 10,5)\n",
    "    i.e. voiture en position 5,1 : \n",
    "    __________\n",
    "    ____x_____\n",
    "    __________\n",
    "    __________\n",
    "    __________\n",
    "    \"\"\"\n",
    "    # print(voiture[\"position\"])\n",
    "    print(\"_\"*voiture[\"position\"] + \"x\" + \"_\"*(10-voiture[\"position\"]-1))\n",
    "\n",
    "    \n",
    "# affichage(voiture)\n",
    "\n",
    "def aller_retour(voiture):\n",
    "    \"\"\"\n",
    "    Fait la voiture avancer jusqu'a 10 et revenir en 0\n",
    "    A chaque tour, on affiche la voiture \n",
    "    \"\"\"\n",
    "    while voiture[\"position\"] < 10:\n",
    "#         voiture[\"position\"] = voiture[\"position\"] + 1\n",
    "        voiture[\"position\"] += 1\n",
    "        affichage(voiture)\n",
    "    while voiture[\"position\"] >= 0:\n",
    "#         voiture[\"position\"] = voiture[\"position\"] + 1\n",
    "        affichage(voiture)\n",
    "        voiture[\"position\"] -= 1\n",
    "    \n",
    "aller_retour(voiture)"
   ]
  },
  {
   "cell_type": "code",
   "execution_count": 175,
   "id": "b0022dc2",
   "metadata": {},
   "outputs": [
    {
     "data": {
      "text/plain": [
       "'____'"
      ]
     },
     "execution_count": 175,
     "metadata": {},
     "output_type": "execute_result"
    }
   ],
   "source": [
    "\"_\" * 4\n"
   ]
  },
  {
   "cell_type": "code",
   "execution_count": 186,
   "id": "d39a60dc",
   "metadata": {},
   "outputs": [
    {
     "data": {
      "text/plain": [
       "2"
      ]
     },
     "execution_count": 186,
     "metadata": {},
     "output_type": "execute_result"
    }
   ],
   "source": [
    "def compte_dans(x, liste_element):\n",
    "    \"\"\"\n",
    "    Retourne le nombre de fois qu'il y a x dans liste_element\n",
    "    \"\"\"\n",
    "    compte = 0\n",
    "    for element in liste_element:\n",
    "        if element == x:\n",
    "            compte += 1\n",
    "    return compte\n",
    "        \n",
    "\n",
    "compte_dans(\"bonjour\", [\"bonjour\", 2, True, \"bonjour\"])"
   ]
  },
  {
   "cell_type": "code",
   "execution_count": null,
   "id": "fc9f639a",
   "metadata": {},
   "outputs": [],
   "source": []
  }
 ],
 "metadata": {
  "kernelspec": {
   "display_name": "Python 3 (ipykernel)",
   "language": "python",
   "name": "python3"
  },
  "language_info": {
   "codemirror_mode": {
    "name": "ipython",
    "version": 3
   },
   "file_extension": ".py",
   "mimetype": "text/x-python",
   "name": "python",
   "nbconvert_exporter": "python",
   "pygments_lexer": "ipython3",
   "version": "3.9.12"
  }
 },
 "nbformat": 4,
 "nbformat_minor": 5
}
